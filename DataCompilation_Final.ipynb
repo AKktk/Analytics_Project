{
 "cells": [
  {
   "cell_type": "code",
   "execution_count": null,
   "id": "4f0ef712",
   "metadata": {},
   "outputs": [],
   "source": [
    "import pandas as pd\n",
    "import numpy as np\n",
    "import math as math\n",
    "import matplotlib.pyplot as plt"
   ]
  },
  {
   "cell_type": "code",
   "execution_count": null,
   "id": "21158ec4",
   "metadata": {},
   "outputs": [],
   "source": [
    "#ENTER THE UAH DRIVESET LOCATION\n",
    "path = 'C:/DDS/Semester2/AnalyticsProject/UAH-DRIVESET-v1/UAH-DRIVESET-v1/'"
   ]
  },
  {
   "cell_type": "code",
   "execution_count": null,
   "id": "1f16a720",
   "metadata": {},
   "outputs": [],
   "source": [
    "driver = 'D1','D2','D3','D4','D5','D6'\n",
    "condition = 'NORMAL1_SECONDARY','NORMAL2_SECONDARY','NORMAL_MOTORWAY','AGGRESSIVE_MOTORWAY','DROWSY_MOTORWAY','AGGRESSIVE_SECONDARY','DROWSY_SECONDARY'\n",
    "parameter = 'RAW_GPS','RAW_ACCELEROMETERS','PROC_LANE_DETECTION','PROL_VEHICLE_DETECTION','PROC_OPENSTREETMAP_DATA','EVENTS_INERTIAL'"
   ]
  },
  {
   "cell_type": "code",
   "execution_count": null,
   "id": "9620cfc6",
   "metadata": {},
   "outputs": [],
   "source": [
    "#FOLDER PATH\n",
    "D1_NORMAL1_SECONDARY = 'D1/20151110175712-16km-D1-NORMAL1-SECONDARY'\n",
    "#D1_NORMAL2_SECONDARY = 'D1/20151110180824-16km-D1-NORMAL2-SECONDARY'\n",
    "D1_NORMAL_MOTORWAY = 'D1/20151111123124-25km-D1-NORMAL-MOTORWAY'\n",
    "#D1_AGGRESSIVE_MOTORWAY = 'D1/20151111125233-24km-D1-AGGRESSIVE-MOTORWAY'\n",
    "D1_DROWSY_MOTORWAY = 'D1/20151111132348-25km-D1-DROWSY-MOTORWAY'        #5s delay\n",
    "D1_AGGRESSIVE_SECONDARY = 'D1/20151111134545-16km-D1-AGGRESSIVE-SECONDARY'\n",
    "#D1_DROWSY_SECONDARY = 'D1/20151111135612-13km-D1-DROWSY-SECONDARY'\n",
    "D2_NORMAL1_SECONDARY = 'D2/20151120160904-16km-D2-NORMAL1-SECONDARY'\n",
    "D2_NORMAL2_SECONDARY = 'D2/20151120162105-17km-D2-NORMAL2-SECONDARY'\n",
    "D2_NORMAL_MOTORWAY = 'D2/20151120131714-26km-D2-NORMAL-MOTORWAY'       #10s delay\n",
    "#D2_AGGRESSIVE_MOTORWAY = 'D2/20151120133502-26km-D2-AGGRESSIVE-MOTORWAY'\n",
    "D2_DROWSY_MOTORWAY = 'D2/20151120135152-25km-D2-DROWSY-MOTORWAY'\n",
    "D2_AGGRESSIVE_SECONDARY = 'D2/20151120163350-16km-D2-AGGRESSIVE-SECONDARY'\n",
    "D2_DROWSY_SECONDARY = 'D2/20151120164606-16km-D2-DROWSY-SECONDARY'\n",
    "#D3_NORMAL1_SECONDARY = 'D3/20151126124208-16km-D3-NORMAL1-SECONDARY'\n",
    "#D3_NORMAL2_SECONDARY = 'D3/20151126125458-16km-D3-NORMAL2-SECONDARY'\n",
    "D3_NORMAL_MOTORWAY = 'D3/20151126110502-26km-D3-NORMAL-MOTORWAY'\n",
    "D3_AGGRESSIVE_MOTORWAY = 'D3/20151126134736-26km-D3-AGGRESSIVE-MOTORWAY'\n",
    "D3_DROWSY_MOTORWAY = 'D3/20151126113754-26km-D3-DROWSY-MOTORWAY'\n",
    "D3_AGGRESSIVE_SECONDARY = 'D3/20151126130707-16km-D3-AGGRESSIVE-SECONDARY'\n",
    "#D3_DROWSY_SECONDARY = 'D3/20151126132013-17km-D3-DROWSY-SECONDARY'\n",
    "D4_NORMAL1_SECONDARY = 'D4/20151203171800-16km-D4-NORMAL1-SECONDARY'\n",
    "D4_NORMAL2_SECONDARY = 'D4/20151203173103-17km-D4-NORMAL2-SECONDARY'\n",
    "D4_NORMAL_MOTORWAY = 'D4/20151204152848-25km-D4-NORMAL-MOTORWAY'         #7s delay\n",
    "D4_AGGRESSIVE_MOTORWAY = 'D4/20151204154908-25km-D4-AGGRESSIVE-MOTORWAY'\n",
    "D4_DROWSY_MOTORWAY = 'D4/20151204160823-25km-D4-DROWSY-MOTORWAY'\n",
    "D4_AGGRESSIVE_SECONDARY = 'D4/20151203174324-16km-D4-AGGRESSIVE-SECONDARY'\n",
    "#D4_DROWSY_SECONDARY = 'D4/20151203175637-17km-D4-DROWSY-SECONDARY'\n",
    "#D5_NORMAL1_SECONDARY = 'D5/20151211162829-16km-D5-NORMAL1-SECONDARY'\n",
    "#D5_NORMAL2_SECONDARY = 'D5/20151211164124-17km-D5-NORMAL2-SECONDARY'\n",
    "D5_NORMAL_MOTORWAY = 'D5/20151209151242-25km-D5-NORMAL-MOTORWAY'         #5s delay\n",
    "D5_AGGRESSIVE_MOTORWAY = 'D5/20151209153137-25km-D5-AGGRESSIVE-MOTORWAY'\n",
    "#D5_DROWSY_MOTORWAY = 'D5/20151211160213-25km-D5-DROWSY-MOTORWAY'\n",
    "#D5_AGGRESSIVE_SECONDARY = 'D5/20151211165606-12km-D5-AGGRESSIVE-SECONDARY'\n",
    "#D5_DROWSY_SECONDARY = 'D5/20151211170502-16km-D5-DROWSY-SECONDARY'\n",
    "#D6_NORMAL_SECONDARY = 'D6/20151221112434-17km-D6-NORMAL-SECONDARY'\n",
    "D6_NORMAL_MOTORWAY = 'D6/20151217162714-26km-D6-NORMAL-MOTORWAY'         #9s delay\n",
    "D6_AGGRESSIVE_MOTORWAY = 'D6/20151221120051-26km-D6-AGGRESSIVE-MOTORWAY' #4s delay\n",
    "#D6_DROWSY_MOTORWAY = 'D6/20151217164730-25km-D6-DROWSY-MOTORWAY'\n",
    "#D6_DROWSY_SECONDARY = 'D6/20151221113846-16km-D6-DROWSY-SECONDARY'"
   ]
  },
  {
   "cell_type": "markdown",
   "id": "92a007cf",
   "metadata": {},
   "source": [
    "## Data Import"
   ]
  },
  {
   "cell_type": "markdown",
   "id": "0921cd49",
   "metadata": {},
   "source": [
    "<b>Please add your path in the below cell to load the data</b>"
   ]
  },
  {
   "cell_type": "code",
   "execution_count": null,
   "id": "b67a2de7",
   "metadata": {},
   "outputs": [],
   "source": [
    "def raw_gps(path, driver_condition):\n",
    "    driver_condition = path + driver_condition\n",
    "    raw_gps = pd.read_csv(driver_condition+\"/RAW_GPS.txt\"\\\n",
    "                     ,sep = ' ',\\\n",
    "                     names=['Timestamp','Speed','Lat','Long','Altitude','VA','HA','Course','DC1','DC2','DC3','DC4'],\\\n",
    "                     index_col=False)\n",
    "    \n",
    "    df_gps =  raw_gps[['Timestamp','Speed']].copy()\n",
    "    df_gps['Timestamp']=df_gps['Timestamp']//1\n",
    "\n",
    "    x1=df_gps['Timestamp'].astype('int')\n",
    "    x1.drop_duplicates(inplace=True)\n",
    "\n",
    "    x2=df_gps.groupby('Timestamp')['Speed'].mean()\n",
    "\n",
    "    x1 = list(x1)\n",
    "    x2 = list(x2)\n",
    "\n",
    "    d = {'Timestamp': x1, 'Speed': x2}\n",
    "    df_gps2=pd.DataFrame(data=d)\n",
    "    return df_gps2\n"
   ]
  },
  {
   "cell_type": "code",
   "execution_count": null,
   "id": "3352ad95",
   "metadata": {},
   "outputs": [],
   "source": [
    "D1_NORMAL_MOTORWAY_GPS = raw_gps(path, D1_NORMAL_MOTORWAY)\n",
    "D1_NORMAL_MOTORWAY_GPS.head()"
   ]
  },
  {
   "cell_type": "code",
   "execution_count": null,
   "id": "50260525",
   "metadata": {},
   "outputs": [],
   "source": [
    "D1_NORMAL_MOTORWAY_GPS.describe()"
   ]
  },
  {
   "cell_type": "code",
   "execution_count": null,
   "id": "b5cbea40",
   "metadata": {},
   "outputs": [],
   "source": [
    "def raw_acc(path, driver_condition):\n",
    "    driver_condition = path + driver_condition\n",
    "    raw_acc = pd.read_csv(driver_condition+ \"/RAW_ACCELEROMETERS.txt\",\\\n",
    "                     names=['Timestamp','Bool','A_x','A_y','A_z','KF_x','KF_y','KF_z','Roll','Pitch','Yaw'],sep=' ',\\\n",
    "                      index_col=False)\n",
    "    \n",
    "    df_raw_acc = raw_acc[['Timestamp','A_x','A_y','A_z']].copy()\n",
    "    df_raw_acc['Timestamp']=df_raw_acc['Timestamp']//1\n",
    "\n",
    "    x1=df_raw_acc['Timestamp'].astype(int)\n",
    "    x1.drop_duplicates(inplace=True)\n",
    "\n",
    "    x2=df_raw_acc.groupby('Timestamp')['A_x'].mean()\n",
    "    x3=df_raw_acc.groupby('Timestamp')['A_y'].mean()\n",
    "    x4=df_raw_acc.groupby('Timestamp')['A_z'].mean()\n",
    "\n",
    "    x1 = list(x1)\n",
    "    x2 = list(x2)\n",
    "    x3 = list(x3)\n",
    "    x4 = list(x4)\n",
    "\n",
    "    d = {'Timestamp': x1, 'A_x': x2, 'A_y':x3,'A_z':x4}\n",
    "    df_raw_accel = pd.DataFrame(data=d)\n",
    "    \n",
    "    return df_raw_accel"
   ]
  },
  {
   "cell_type": "code",
   "execution_count": null,
   "id": "e93afe0a",
   "metadata": {},
   "outputs": [],
   "source": [
    "D1_NORMAL_MOTORWAY_RAW_ACC = raw_acc(path, D1_NORMAL_MOTORWAY)\n",
    "D1_NORMAL_MOTORWAY_RAW_ACC.head()"
   ]
  },
  {
   "cell_type": "code",
   "execution_count": null,
   "id": "c6f8970b",
   "metadata": {},
   "outputs": [],
   "source": [
    "D1_NORMAL_MOTORWAY_RAW_ACC.describe()"
   ]
  },
  {
   "cell_type": "code",
   "execution_count": null,
   "id": "87878c9c",
   "metadata": {},
   "outputs": [],
   "source": [
    "def proc_lane_det(path, driver_condition):\n",
    "    driver_condition = path + driver_condition\n",
    "    proc_lane_det = pd.read_csv(driver_condition+ \"/PROC_LANE_DETECTION.txt\",\\\n",
    "                     names=['Timestamp','X_pos','Phi_angle','Road_width','Lane_state'],sep=' ',index_col=False)\n",
    "    \n",
    "    df_lane_det = proc_lane_det[['Timestamp','X_pos','Phi_angle','Road_width']].copy()\n",
    "    df_lane_det['Timestamp']=df_lane_det['Timestamp']//1\n",
    "\n",
    "    x1=df_lane_det['Timestamp'].astype('int')\n",
    "    x1.drop_duplicates(inplace=True)\n",
    "    x2=df_lane_det.groupby('Timestamp')['X_pos'].max()\n",
    "    x3=df_lane_det.groupby('Timestamp')['Phi_angle'].max()\n",
    "    x4=df_lane_det.groupby('Timestamp')['Road_width'].max()\n",
    "    x1 = list(x1)\n",
    "    x2 = list(x2)\n",
    "    x3 = list(x3)\n",
    "    x4 = list(x4)\n",
    "\n",
    "    d = {'Timestamp': x1, 'X_pos': x2, 'Phi_angle':x3,'Road_width':x4}\n",
    "    df_lane_det = pd.DataFrame(data=d)\n",
    "    \n",
    "    return df_lane_det"
   ]
  },
  {
   "cell_type": "code",
   "execution_count": null,
   "id": "7c6f63f3",
   "metadata": {},
   "outputs": [],
   "source": [
    "D1_NORMAL_MOTORWAY_LANE_DET = proc_lane_det(path, D1_NORMAL_MOTORWAY)\n",
    "D1_NORMAL_MOTORWAY_LANE_DET.head()"
   ]
  },
  {
   "cell_type": "code",
   "execution_count": null,
   "id": "fcf33b3a",
   "metadata": {},
   "outputs": [],
   "source": [
    "D1_NORMAL_MOTORWAY_LANE_DET.describe()"
   ]
  },
  {
   "cell_type": "code",
   "execution_count": null,
   "id": "3895fe1e",
   "metadata": {},
   "outputs": [],
   "source": [
    "def proc_veh_det(path, driver_condition):\n",
    "    \n",
    "    driver_condition = path+driver_condition\n",
    "    \n",
    "    proc_veh_det = pd.read_csv(driver_condition+\"/PROC_VEHICLE_DETECTION.txt\",\\\n",
    "                     names=['Timestamp','Dist_Veh','TOI','No_Of_Veh','GPS'],sep=' ',index_col=False)\n",
    "    \n",
    "    df_veh_det = proc_veh_det[['Timestamp','Dist_Veh','No_Of_Veh','GPS']].copy()\n",
    "    df_veh_det['Dist_Veh'] = df_veh_det['Dist_Veh'].replace(-1.0,999)\n",
    "    df_veh_det['Timestamp']=df_veh_det['Timestamp']//1\n",
    "\n",
    "    x1=df_veh_det['Timestamp'].astype('int')\n",
    "    x1.drop_duplicates(inplace=True)\n",
    "\n",
    "    x2=df_veh_det.groupby('Timestamp')['No_Of_Veh'].max()\n",
    "    x3=df_veh_det.groupby('Timestamp')['Dist_Veh'].min()\n",
    "    x4=df_veh_det.groupby('Timestamp')['GPS'].mean()\n",
    "\n",
    "    x1 = list(x1)\n",
    "    x2 = list(x2)\n",
    "    x3 = list(x3)\n",
    "    x4 = list(x4)\n",
    "\n",
    "    d = {'Timestamp': x1, 'No_Of_Veh': x2, 'Dist_Veh':x3,'GPS':x4}\n",
    "    df_veh_det = pd.DataFrame(data=d)\n",
    "    \n",
    "    return df_veh_det"
   ]
  },
  {
   "cell_type": "code",
   "execution_count": null,
   "id": "8f23ed9c",
   "metadata": {},
   "outputs": [],
   "source": [
    "D1_NORMAL_MOTORWAY_VEH_DET = proc_veh_det(path, D1_NORMAL_MOTORWAY)\n",
    "D1_NORMAL_MOTORWAY_VEH_DET.head()"
   ]
  },
  {
   "cell_type": "code",
   "execution_count": null,
   "id": "c6c9d314",
   "metadata": {},
   "outputs": [],
   "source": [
    "def evn_lane_chg(path, driver_condition):\n",
    "    \n",
    "    driver_condition = path+driver_condition\n",
    "    \n",
    "    evn_lane_chg = pd.read_csv(driver_condition+\"/EVENTS_LIST_LANE_CHANGES.txt\",\\\n",
    "                     names=['Timestamp','Type','Lat','Lon','Duration','Threshold'],sep=' ',index_col=False)\n",
    "    \n",
    "    df_lane_chg = evn_lane_chg[['Timestamp','Type']].copy()\n",
    "    df_lane_chg['Timestamp'] = (df_lane_chg['Timestamp']//1).astype(int)\n",
    "    df_lane_chg.rename(columns={\"Type\": \"Lane_Change\"},inplace=True)\n",
    "    df_lane_chg.drop_duplicates(inplace=True)\n",
    "    \n",
    "    return df_lane_chg\n",
    "    "
   ]
  },
  {
   "cell_type": "code",
   "execution_count": null,
   "id": "41f10e06",
   "metadata": {},
   "outputs": [],
   "source": [
    "D1_NORMAL_MOTORWAY_LANE_CHG = evn_lane_chg(path, D1_NORMAL_MOTORWAY)\n",
    "D1_NORMAL_MOTORWAY_LANE_CHG.head()"
   ]
  },
  {
   "cell_type": "code",
   "execution_count": null,
   "id": "53ad5b92",
   "metadata": {},
   "outputs": [],
   "source": [
    "D1_NORMAL_MOTORWAY_LANE_CHG.describe()"
   ]
  },
  {
   "cell_type": "code",
   "execution_count": null,
   "id": "eb19c610",
   "metadata": {},
   "outputs": [],
   "source": [
    "D1_DROWSY_MOTORWAY_GPS = raw_gps(path, D1_DROWSY_MOTORWAY)\n",
    "D1_DROWSY_MOTORWAY_RAW_ACC= raw_acc(path, D1_DROWSY_MOTORWAY)\n",
    "D1_DROWSY_MOTORWAY_VEH_DET= proc_veh_det(path, D1_DROWSY_MOTORWAY)\n",
    "D1_DROWSY_MOTORWAY_LANE_DET = proc_lane_det(path, D1_DROWSY_MOTORWAY)\n",
    "D1_DROWSY_MOTORWAY_LANE_CHG = evn_lane_chg(path, D1_DROWSY_MOTORWAY)"
   ]
  },
  {
   "cell_type": "code",
   "execution_count": null,
   "id": "d2983d7d",
   "metadata": {},
   "outputs": [],
   "source": [
    "D1_DROWSY_MOTORWAY_LANE_CHG['Timestamp']= D1_DROWSY_MOTORWAY_LANE_CHG['Timestamp']+5  #5s delay in the timestamp\n",
    "D1_DROWSY_MOTORWAY_LANE_CHG.head()"
   ]
  },
  {
   "cell_type": "code",
   "execution_count": null,
   "id": "51eff08f",
   "metadata": {},
   "outputs": [],
   "source": [
    "D2_NORMAL_MOTORWAY_GPS = raw_gps(path, D2_NORMAL_MOTORWAY)\n",
    "D2_NORMAL_MOTORWAY_RAW_ACC= raw_acc(path, D2_NORMAL_MOTORWAY)\n",
    "D2_NORMAL_MOTORWAY_VEH_DET= proc_veh_det(path, D2_NORMAL_MOTORWAY)\n",
    "D2_NORMAL_MOTORWAY_LANE_DET = proc_lane_det(path, D2_NORMAL_MOTORWAY)\n",
    "D2_NORMAL_MOTORWAY_LANE_CHG = evn_lane_chg(path, D2_NORMAL_MOTORWAY)"
   ]
  },
  {
   "cell_type": "code",
   "execution_count": null,
   "id": "8cada648",
   "metadata": {},
   "outputs": [],
   "source": [
    "D2_NORMAL_MOTORWAY_LANE_CHG['Timestamp'] = D2_NORMAL_MOTORWAY_LANE_CHG['Timestamp']+10 #10s delay in the timestamp"
   ]
  },
  {
   "cell_type": "code",
   "execution_count": null,
   "id": "4659fae3",
   "metadata": {},
   "outputs": [],
   "source": [
    "D3_NORMAL_MOTORWAY_GPS = raw_gps(path, D3_NORMAL_MOTORWAY)\n",
    "D3_NORMAL_MOTORWAY_RAW_ACC= raw_acc(path, D3_NORMAL_MOTORWAY)\n",
    "D3_NORMAL_MOTORWAY_VEH_DET= proc_veh_det(path, D3_NORMAL_MOTORWAY)\n",
    "D3_NORMAL_MOTORWAY_LANE_DET = proc_lane_det(path, D3_NORMAL_MOTORWAY)\n",
    "D3_NORMAL_MOTORWAY_LANE_CHG = evn_lane_chg(path, D3_NORMAL_MOTORWAY)"
   ]
  },
  {
   "cell_type": "code",
   "execution_count": null,
   "id": "01311e25",
   "metadata": {},
   "outputs": [],
   "source": [
    "D3_AGGRESSIVE_MOTORWAY_GPS = raw_gps(path, D3_AGGRESSIVE_MOTORWAY)\n",
    "D3_AGGRESSIVE_MOTORWAY_RAW_ACC= raw_acc(path, D3_AGGRESSIVE_MOTORWAY)\n",
    "D3_AGGRESSIVE_MOTORWAY_VEH_DET= proc_veh_det(path, D3_AGGRESSIVE_MOTORWAY)\n",
    "D3_AGGRESSIVE_MOTORWAY_LANE_DET = proc_lane_det(path, D3_AGGRESSIVE_MOTORWAY)\n",
    "D3_AGGRESSIVE_MOTORWAY_LANE_CHG = evn_lane_chg(path, D3_AGGRESSIVE_MOTORWAY)"
   ]
  },
  {
   "cell_type": "code",
   "execution_count": null,
   "id": "12720325",
   "metadata": {},
   "outputs": [],
   "source": [
    "D3_DROWSY_MOTORWAY_GPS = raw_gps(path, D3_DROWSY_MOTORWAY)\n",
    "D3_DROWSY_MOTORWAY_RAW_ACC= raw_acc(path, D3_DROWSY_MOTORWAY)\n",
    "D3_DROWSY_MOTORWAY_VEH_DET= proc_veh_det(path, D3_DROWSY_MOTORWAY)\n",
    "D3_DROWSY_MOTORWAY_LANE_DET = proc_lane_det(path, D3_DROWSY_MOTORWAY)\n",
    "D3_DROWSY_MOTORWAY_LANE_CHG = evn_lane_chg(path, D3_DROWSY_MOTORWAY)"
   ]
  },
  {
   "cell_type": "code",
   "execution_count": null,
   "id": "56991b0b",
   "metadata": {},
   "outputs": [],
   "source": [
    "D4_NORMAL_MOTORWAY_GPS = raw_gps(path, D4_NORMAL_MOTORWAY)\n",
    "D4_NORMAL_MOTORWAY_RAW_ACC= raw_acc(path, D4_NORMAL_MOTORWAY)\n",
    "D4_NORMAL_MOTORWAY_VEH_DET= proc_veh_det(path, D4_NORMAL_MOTORWAY)\n",
    "D4_NORMAL_MOTORWAY_LANE_DET = proc_lane_det(path, D4_NORMAL_MOTORWAY)\n",
    "D4_NORMAL_MOTORWAY_LANE_CHG = evn_lane_chg(path, D4_NORMAL_MOTORWAY)"
   ]
  },
  {
   "cell_type": "code",
   "execution_count": null,
   "id": "cf5c4ec6",
   "metadata": {},
   "outputs": [],
   "source": [
    "D4_NORMAL_MOTORWAY_LANE_CHG['Timestamp'] = D4_NORMAL_MOTORWAY_LANE_CHG['Timestamp']+7 #7s delay in the timestamp"
   ]
  },
  {
   "cell_type": "code",
   "execution_count": null,
   "id": "1f522080",
   "metadata": {},
   "outputs": [],
   "source": [
    "D4_AGGRESSIVE_MOTORWAY_GPS = raw_gps(path, D4_AGGRESSIVE_MOTORWAY)\n",
    "D4_AGGRESSIVE_MOTORWAY_RAW_ACC= raw_acc(path, D4_AGGRESSIVE_MOTORWAY)\n",
    "D4_AGGRESSIVE_MOTORWAY_VEH_DET= proc_veh_det(path, D4_AGGRESSIVE_MOTORWAY)\n",
    "D4_AGGRESSIVE_MOTORWAY_LANE_DET = proc_lane_det(path, D4_AGGRESSIVE_MOTORWAY)\n",
    "D4_AGGRESSIVE_MOTORWAY_LANE_CHG = evn_lane_chg(path, D4_AGGRESSIVE_MOTORWAY)"
   ]
  },
  {
   "cell_type": "code",
   "execution_count": null,
   "id": "71b2ad5a",
   "metadata": {},
   "outputs": [],
   "source": [
    "D4_DROWSY_MOTORWAY_GPS = raw_gps(path, D4_DROWSY_MOTORWAY)\n",
    "D4_DROWSY_MOTORWAY_RAW_ACC= raw_acc(path, D4_DROWSY_MOTORWAY)\n",
    "D4_DROWSY_MOTORWAY_VEH_DET= proc_veh_det(path, D4_DROWSY_MOTORWAY)\n",
    "D4_DROWSY_MOTORWAY_LANE_DET = proc_lane_det(path, D4_DROWSY_MOTORWAY)\n",
    "D4_DROWSY_MOTORWAY_LANE_CHG = evn_lane_chg(path, D4_DROWSY_MOTORWAY)"
   ]
  },
  {
   "cell_type": "code",
   "execution_count": null,
   "id": "a1403432",
   "metadata": {},
   "outputs": [],
   "source": [
    "D5_NORMAL_MOTORWAY_GPS = raw_gps(path, D5_NORMAL_MOTORWAY)\n",
    "D5_NORMAL_MOTORWAY_RAW_ACC= raw_acc(path, D5_NORMAL_MOTORWAY)\n",
    "D5_NORMAL_MOTORWAY_VEH_DET= proc_veh_det(path, D5_NORMAL_MOTORWAY)\n",
    "D5_NORMAL_MOTORWAY_LANE_DET = proc_lane_det(path, D5_NORMAL_MOTORWAY)\n",
    "D5_NORMAL_MOTORWAY_LANE_CHG = evn_lane_chg(path, D5_NORMAL_MOTORWAY)"
   ]
  },
  {
   "cell_type": "code",
   "execution_count": null,
   "id": "e0a8a0ef",
   "metadata": {},
   "outputs": [],
   "source": [
    "D5_NORMAL_MOTORWAY_LANE_CHG['Timestamp'] = D5_NORMAL_MOTORWAY_LANE_CHG['Timestamp']+5 #5s delay in the timestamp"
   ]
  },
  {
   "cell_type": "code",
   "execution_count": null,
   "id": "30bad161",
   "metadata": {},
   "outputs": [],
   "source": [
    "D5_AGGRESSIVE_MOTORWAY_GPS = raw_gps(path,D5_AGGRESSIVE_MOTORWAY)\n",
    "D5_AGGRESSIVE_MOTORWAY_RAW_ACC= raw_acc(path, D5_AGGRESSIVE_MOTORWAY)\n",
    "D5_AGGRESSIVE_MOTORWAY_VEH_DET= proc_veh_det(path, D5_AGGRESSIVE_MOTORWAY)\n",
    "D5_AGGRESSIVE_MOTORWAY_LANE_DET = proc_lane_det(path, D5_AGGRESSIVE_MOTORWAY)\n",
    "D5_AGGRESSIVE_MOTORWAY_LANE_CHG = evn_lane_chg(path, D5_AGGRESSIVE_MOTORWAY)"
   ]
  },
  {
   "cell_type": "code",
   "execution_count": null,
   "id": "be29565a",
   "metadata": {},
   "outputs": [],
   "source": [
    "D6_NORMAL_MOTORWAY_GPS = raw_gps(path,D6_NORMAL_MOTORWAY)\n",
    "D6_NORMAL_MOTORWAY_RAW_ACC= raw_acc(path, D6_NORMAL_MOTORWAY)\n",
    "D6_NORMAL_MOTORWAY_VEH_DET= proc_veh_det(path, D6_NORMAL_MOTORWAY)\n",
    "D6_NORMAL_MOTORWAY_LANE_DET = proc_lane_det(path, D6_NORMAL_MOTORWAY)\n",
    "D6_NORMAL_MOTORWAY_LANE_CHG = evn_lane_chg(path, D6_NORMAL_MOTORWAY)"
   ]
  },
  {
   "cell_type": "code",
   "execution_count": null,
   "id": "bbd714e5",
   "metadata": {},
   "outputs": [],
   "source": [
    "D6_NORMAL_MOTORWAY_LANE_CHG['Timestamp'] = D6_NORMAL_MOTORWAY_LANE_CHG['Timestamp']+9 #9s delay in the timestamp"
   ]
  },
  {
   "cell_type": "code",
   "execution_count": null,
   "id": "5a45e95e",
   "metadata": {},
   "outputs": [],
   "source": [
    "D6_AGGRESSIVE_MOTORWAY_GPS = raw_gps(path,D6_AGGRESSIVE_MOTORWAY)\n",
    "D6_AGGRESSIVE_MOTORWAY_RAW_ACC= raw_acc(path, D6_AGGRESSIVE_MOTORWAY)\n",
    "D6_AGGRESSIVE_MOTORWAY_VEH_DET= proc_veh_det(path, D6_AGGRESSIVE_MOTORWAY)\n",
    "D6_AGGRESSIVE_MOTORWAY_LANE_DET = proc_lane_det(path, D6_AGGRESSIVE_MOTORWAY)\n",
    "D6_AGGRESSIVE_MOTORWAY_LANE_CHG = evn_lane_chg(path, D6_AGGRESSIVE_MOTORWAY)"
   ]
  },
  {
   "cell_type": "code",
   "execution_count": null,
   "id": "557d3824",
   "metadata": {},
   "outputs": [],
   "source": [
    "D6_AGGRESSIVE_MOTORWAY_LANE_CHG['Timestamp'] = D6_AGGRESSIVE_MOTORWAY_LANE_CHG['Timestamp']+4 #4s delay in the timestamp"
   ]
  },
  {
   "cell_type": "markdown",
   "id": "9b1bdad9",
   "metadata": {},
   "source": [
    "### Merging"
   ]
  },
  {
   "cell_type": "code",
   "execution_count": null,
   "id": "d53ea397",
   "metadata": {},
   "outputs": [],
   "source": [
    "def mergefiles(dfs,lt):\n",
    "    if lt==0:\n",
    "        return dfs[lt]\n",
    "    else:\n",
    "        return pd.merge(dfs[lt],mergefiles(dfs,lt-1))\n"
   ]
  },
  {
   "cell_type": "code",
   "execution_count": null,
   "id": "07af500b",
   "metadata": {
    "scrolled": true
   },
   "outputs": [],
   "source": [
    "frame_1=[D1_NORMAL_MOTORWAY_GPS, D1_NORMAL_MOTORWAY_RAW_ACC, D1_NORMAL_MOTORWAY_VEH_DET, D1_NORMAL_MOTORWAY_LANE_DET, D1_NORMAL_MOTORWAY_LANE_CHG]\n",
    "frame_2= [D1_DROWSY_MOTORWAY_GPS, D1_DROWSY_MOTORWAY_RAW_ACC, D1_DROWSY_MOTORWAY_VEH_DET, D1_DROWSY_MOTORWAY_LANE_DET, D1_DROWSY_MOTORWAY_LANE_CHG] # list of dataframes\n",
    "frame_3=[D2_NORMAL_MOTORWAY_GPS, D2_NORMAL_MOTORWAY_RAW_ACC, D2_NORMAL_MOTORWAY_VEH_DET, D2_NORMAL_MOTORWAY_LANE_DET, D2_NORMAL_MOTORWAY_LANE_CHG]\n",
    "frame_4=[D3_NORMAL_MOTORWAY_GPS, D3_NORMAL_MOTORWAY_RAW_ACC, D3_NORMAL_MOTORWAY_VEH_DET, D3_NORMAL_MOTORWAY_LANE_DET, D3_NORMAL_MOTORWAY_LANE_CHG]\n",
    "frame_5=[D3_AGGRESSIVE_MOTORWAY_GPS, D3_AGGRESSIVE_MOTORWAY_RAW_ACC, D3_AGGRESSIVE_MOTORWAY_VEH_DET, D3_AGGRESSIVE_MOTORWAY_LANE_DET, D3_AGGRESSIVE_MOTORWAY_LANE_CHG]\n",
    "frame_6=[D3_DROWSY_MOTORWAY_GPS, D3_DROWSY_MOTORWAY_RAW_ACC, D3_DROWSY_MOTORWAY_VEH_DET, D3_DROWSY_MOTORWAY_LANE_DET, D3_DROWSY_MOTORWAY_LANE_CHG]\n",
    "frame_7=[D4_NORMAL_MOTORWAY_GPS, D4_NORMAL_MOTORWAY_RAW_ACC, D4_NORMAL_MOTORWAY_VEH_DET, D4_NORMAL_MOTORWAY_LANE_DET, D4_NORMAL_MOTORWAY_LANE_CHG]\n",
    "frame_8=[D4_AGGRESSIVE_MOTORWAY_GPS, D4_AGGRESSIVE_MOTORWAY_RAW_ACC, D4_AGGRESSIVE_MOTORWAY_VEH_DET, D4_AGGRESSIVE_MOTORWAY_LANE_DET, D4_AGGRESSIVE_MOTORWAY_LANE_CHG]\n",
    "frame_9=[D4_DROWSY_MOTORWAY_GPS, D4_DROWSY_MOTORWAY_RAW_ACC, D4_DROWSY_MOTORWAY_VEH_DET, D4_DROWSY_MOTORWAY_LANE_DET, D4_DROWSY_MOTORWAY_LANE_CHG]\n",
    "frame_10=[D5_NORMAL_MOTORWAY_GPS, D5_NORMAL_MOTORWAY_RAW_ACC, D5_NORMAL_MOTORWAY_VEH_DET, D5_NORMAL_MOTORWAY_LANE_DET, D5_NORMAL_MOTORWAY_LANE_CHG]\n",
    "frame_11=[D5_AGGRESSIVE_MOTORWAY_GPS, D5_AGGRESSIVE_MOTORWAY_RAW_ACC, D5_AGGRESSIVE_MOTORWAY_VEH_DET, D5_AGGRESSIVE_MOTORWAY_LANE_DET, D5_AGGRESSIVE_MOTORWAY_LANE_CHG]\n",
    "frame_12=[D6_NORMAL_MOTORWAY_GPS, D6_NORMAL_MOTORWAY_RAW_ACC, D6_NORMAL_MOTORWAY_VEH_DET, D6_NORMAL_MOTORWAY_LANE_DET, D6_NORMAL_MOTORWAY_LANE_CHG]\n",
    "frame_13=[D6_AGGRESSIVE_MOTORWAY_GPS, D6_AGGRESSIVE_MOTORWAY_RAW_ACC, D6_AGGRESSIVE_MOTORWAY_VEH_DET, D6_AGGRESSIVE_MOTORWAY_LANE_DET, D6_AGGRESSIVE_MOTORWAY_LANE_CHG]"
   ]
  },
  {
   "cell_type": "code",
   "execution_count": null,
   "id": "bffd1bf8",
   "metadata": {},
   "outputs": [],
   "source": [
    "D1_NORMAL_MOTORWAY_merged=mergefiles(frame_1,len(frame_1)-1)\n",
    "D1_DROWSY_MOTORWAY_merged=mergefiles(frame_2,len(frame_2)-1)\n",
    "D2_NORMAL_MOTORWAY_merged=mergefiles(frame_3,len(frame_3)-1)\n",
    "D3_NORMAL_MOTORWAY_merged=mergefiles(frame_4,len(frame_4)-1)\n",
    "D3_AGGRESSIVE_MOTORWAY_merged=mergefiles(frame_5,len(frame_5)-1)\n",
    "D3_DROWSY_MOTORWAY_merged=mergefiles(frame_6,len(frame_6)-1)\n",
    "D4_NORMAL_MOTORWAY_merged=mergefiles(frame_7,len(frame_7)-1)\n",
    "D4_AGGRESSIVE_MOTORWAY_merged=mergefiles(frame_8,len(frame_8)-1)\n",
    "D4_DROWSY_MOTORWAY_merged=mergefiles(frame_9,len(frame_9)-1)\n",
    "D5_NORMAL_MOTORWAY_merged=mergefiles(frame_10,len(frame_10)-1)\n",
    "D5_AGGRESSIVE_MOTORWAY_merged=mergefiles(frame_11,len(frame_11)-1)\n",
    "D6_NORMAL_MOTORWAY_merged=mergefiles(frame_12,len(frame_12)-1)\n",
    "D6_AGGRESSIVE_MOTORWAY_merged=mergefiles(frame_13,len(frame_13)-1)"
   ]
  },
  {
   "cell_type": "markdown",
   "id": "e57cf9e0",
   "metadata": {},
   "source": [
    "### Target Variable Assignment"
   ]
  },
  {
   "cell_type": "code",
   "execution_count": null,
   "id": "d73180d2",
   "metadata": {},
   "outputs": [],
   "source": [
    "def Target_alloc(datF):\n",
    "    datF['A_z']=datF['A_z']*9.8\n",
    "    M1=datF['A_z'][datF['A_z']>0]\n",
    "    M2=datF['A_z'][datF['A_z']<0]\n",
    "    Accel_med=M1.median()\n",
    "    Break_med=M2.median() \n",
    "    datF['Target']=0\n",
    "    datF.loc[(datF['Lane_Change'] == -1) | (datF['Lane_Change'] == -2), 'Target'] =3 #Left\n",
    "    datF.loc[(datF['Lane_Change'] == 1) | (datF['Lane_Change'] == 2), 'Target'] =4 #Right\n",
    "    datF.loc[(datF['Target']==0) & (datF['A_z']>Accel_med), 'Target'] =1 #Acc\n",
    "    datF.loc[(datF['Target']==0) & (datF['A_z']<Break_med), 'Target'] =2 #Brk"
   ]
  },
  {
   "cell_type": "code",
   "execution_count": null,
   "id": "c2d38855",
   "metadata": {},
   "outputs": [],
   "source": [
    "Target_alloc(D1_NORMAL_MOTORWAY_merged)\n",
    "Target_alloc(D1_DROWSY_MOTORWAY_merged)\n",
    "Target_alloc(D2_NORMAL_MOTORWAY_merged)\n",
    "Target_alloc(D3_NORMAL_MOTORWAY_merged)\n",
    "Target_alloc(D3_AGGRESSIVE_MOTORWAY_merged)\n",
    "Target_alloc(D3_DROWSY_MOTORWAY_merged)\n",
    "Target_alloc(D4_NORMAL_MOTORWAY_merged)\n",
    "Target_alloc(D4_AGGRESSIVE_MOTORWAY_merged)\n",
    "Target_alloc(D4_DROWSY_MOTORWAY_merged)\n",
    "Target_alloc(D5_NORMAL_MOTORWAY_merged)\n",
    "Target_alloc(D5_AGGRESSIVE_MOTORWAY_merged)\n",
    "Target_alloc(D6_NORMAL_MOTORWAY_merged)\n",
    "Target_alloc(D6_AGGRESSIVE_MOTORWAY_merged)"
   ]
  },
  {
   "cell_type": "code",
   "execution_count": null,
   "id": "8965c181",
   "metadata": {},
   "outputs": [],
   "source": [
    "df= pd.concat([D1_NORMAL_MOTORWAY_merged, D1_DROWSY_MOTORWAY_merged, D2_NORMAL_MOTORWAY_merged,\n",
    "              D3_NORMAL_MOTORWAY_merged, D3_AGGRESSIVE_MOTORWAY_merged, D3_DROWSY_MOTORWAY_merged, D4_NORMAL_MOTORWAY_merged,\n",
    "              D4_AGGRESSIVE_MOTORWAY_merged, D4_DROWSY_MOTORWAY_merged, D5_NORMAL_MOTORWAY_merged, D5_AGGRESSIVE_MOTORWAY_merged,\n",
    "              D6_AGGRESSIVE_MOTORWAY_merged, D6_NORMAL_MOTORWAY_merged])\n",
    "\n",
    "df.info()"
   ]
  },
  {
   "cell_type": "markdown",
   "id": "48b9015f",
   "metadata": {},
   "source": [
    "#### Replace NAN"
   ]
  },
  {
   "cell_type": "code",
   "execution_count": null,
   "id": "3c720f50",
   "metadata": {},
   "outputs": [],
   "source": [
    "df['Speed']=df['Speed'].fillna(0)\n",
    "df['GPS']=df['GPS'].fillna(0)\n",
    "df['Lane_Change']=df['Lane_Change'].fillna(0) \n",
    "df['Dist_Veh']=df['Dist_Veh'].fillna(999)\n",
    "df['No_Of_Veh']=df['No_Of_Veh'].fillna(0.000000)\n",
    "df['Road_width']=df['Road_width'].fillna(-9.0)\n",
    "df['Phi_angle']=df['Phi_angle'].fillna(-9.0)\n",
    "df['X_pos']=df['X_pos'].fillna(-9.0)"
   ]
  },
  {
   "cell_type": "code",
   "execution_count": null,
   "id": "2838f885",
   "metadata": {},
   "outputs": [],
   "source": [
    "df.drop_duplicates(inplace=True)"
   ]
  },
  {
   "cell_type": "code",
   "execution_count": null,
   "id": "c798e2ae",
   "metadata": {
    "scrolled": false
   },
   "outputs": [],
   "source": [
    "df.describe()"
   ]
  },
  {
   "cell_type": "markdown",
   "id": "1ee7acd3",
   "metadata": {},
   "source": [
    "## Data Visualization"
   ]
  },
  {
   "cell_type": "code",
   "execution_count": null,
   "id": "c4370c8e",
   "metadata": {
    "scrolled": false
   },
   "outputs": [],
   "source": [
    "#Raw Acceleration\n",
    "#plt.figure(figsize=(15,5)) \n",
    "#plt.plot(df['Timestamp'],df['A_z'])\n",
    "#plt.show()"
   ]
  },
  {
   "cell_type": "code",
   "execution_count": null,
   "id": "2bedbdbb",
   "metadata": {
    "scrolled": true
   },
   "outputs": [],
   "source": [
    "#Acceleration after downscale\n",
    "plt.figure(figsize=(15,5)) \n",
    "plt.plot(df['Timestamp'],df['A_z'])\n",
    "plt.show()"
   ]
  },
  {
   "cell_type": "code",
   "execution_count": null,
   "id": "d3537355",
   "metadata": {
    "scrolled": true
   },
   "outputs": [],
   "source": [
    "\n",
    "plt.figure(figsize=(15,5)) \n",
    "plt.plot(df['Timestamp'],df['Speed'])\n",
    "plt.plot(df['Timestamp'],df['GPS'])\n",
    "plt.show()"
   ]
  },
  {
   "cell_type": "code",
   "execution_count": null,
   "id": "d29145ef",
   "metadata": {},
   "outputs": [],
   "source": [
    "\n",
    "plt.figure(figsize=(15,5)) \n",
    "plt.plot(df['Timestamp'],df['GPS'])\n",
    "plt.show()"
   ]
  },
  {
   "cell_type": "markdown",
   "id": "01e6ebd2",
   "metadata": {},
   "source": [
    "Eliminating Rows with no significance"
   ]
  },
  {
   "cell_type": "code",
   "execution_count": null,
   "id": "daf51369",
   "metadata": {},
   "outputs": [],
   "source": [
    "df.info()"
   ]
  },
  {
   "cell_type": "code",
   "execution_count": null,
   "id": "2d077556",
   "metadata": {
    "scrolled": true
   },
   "outputs": [],
   "source": [
    "df=df[(df['X_pos']!=-9.0)|(df['Phi_angle']!=-9.0)|(df['Road_width']!=-9.0)]"
   ]
  },
  {
   "cell_type": "code",
   "execution_count": null,
   "id": "8f558a1f",
   "metadata": {},
   "outputs": [],
   "source": [
    "df.info()"
   ]
  },
  {
   "cell_type": "markdown",
   "id": "ea78ff97",
   "metadata": {},
   "source": [
    "Add Vehicle Flag"
   ]
  },
  {
   "cell_type": "code",
   "execution_count": null,
   "id": "9e5305b6",
   "metadata": {},
   "outputs": [],
   "source": [
    "df.loc[df['Dist_Veh']!=999,'Vehicle_Flag']=1\n",
    "df['Vehicle_Flag']=df['Vehicle_Flag'].fillna(0)\n",
    "df['Vehicle_Flag'].value_counts()"
   ]
  },
  {
   "cell_type": "code",
   "execution_count": null,
   "id": "43a874ce",
   "metadata": {},
   "outputs": [],
   "source": [
    "df[df['Dist_Veh']!=999].count()"
   ]
  },
  {
   "cell_type": "code",
   "execution_count": null,
   "id": "78bdbaa5",
   "metadata": {},
   "outputs": [],
   "source": [
    "df.head()"
   ]
  },
  {
   "cell_type": "code",
   "execution_count": null,
   "id": "b3ad05c6",
   "metadata": {},
   "outputs": [],
   "source": [
    "df.describe()"
   ]
  },
  {
   "cell_type": "code",
   "execution_count": null,
   "id": "ec1c24b9",
   "metadata": {},
   "outputs": [],
   "source": [
    "from sklearn.utils import shuffle\n",
    "from sklearn.model_selection import train_test_split\n"
   ]
  },
  {
   "cell_type": "code",
   "execution_count": null,
   "id": "8a3624d7",
   "metadata": {},
   "outputs": [],
   "source": [
    "df = shuffle(df)\n",
    "df_train, df_test = train_test_split(df, test_size=0.2)"
   ]
  }
 ],
 "metadata": {
  "kernelspec": {
   "display_name": "Python 3 (ipykernel)",
   "language": "python",
   "name": "python3"
  },
  "language_info": {
   "codemirror_mode": {
    "name": "ipython",
    "version": 3
   },
   "file_extension": ".py",
   "mimetype": "text/x-python",
   "name": "python",
   "nbconvert_exporter": "python",
   "pygments_lexer": "ipython3",
   "version": "3.10.0"
  }
 },
 "nbformat": 4,
 "nbformat_minor": 5
}
