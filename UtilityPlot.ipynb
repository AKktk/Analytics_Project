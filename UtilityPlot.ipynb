{
 "cells": [
  {
   "cell_type": "code",
   "execution_count": 68,
   "id": "4f0ef712",
   "metadata": {},
   "outputs": [],
   "source": [
    "import pandas as pd\n",
    "import numpy as np\n",
    "import math as math\n",
    "import matplotlib.pyplot as plt\n",
    "import seaborn as sns"
   ]
  },
  {
   "cell_type": "code",
   "execution_count": 11,
   "id": "21158ec4",
   "metadata": {},
   "outputs": [],
   "source": [
    "#ENTER THE UAH DRIVESET LOCATION\n",
    "path = 'C:/DDS/Semester2/AnalyticsProject/UAH-DRIVESET-v1/UAH-DRIVESET-v1/'"
   ]
  },
  {
   "cell_type": "code",
   "execution_count": 12,
   "id": "1f16a720",
   "metadata": {},
   "outputs": [],
   "source": [
    "driver = 'D1','D2','D3','D4','D5','D6'\n",
    "condition = 'NORMAL1_SECONDARY','NORMAL2_SECONDARY','NORMAL_MOTORWAY','AGGRESSIVE_MOTORWAY','DROWSY_MOTORWAY','AGGRESSIVE_SECONDARY','DROWSY_SECONDARY'\n",
    "parameter = 'RAW_GPS','RAW_ACCELEROMETERS','PROC_LANE_DETECTION','PROL_VEHICLE_DETECTION','PROC_OPENSTREETMAP_DATA','EVENTS_INERTIAL'"
   ]
  },
  {
   "cell_type": "code",
   "execution_count": 15,
   "id": "9620cfc6",
   "metadata": {},
   "outputs": [],
   "source": [
    "#FOLDER PATH\n",
    "D1_NORMAL1_SECONDARY = 'D1/20151110175712-16km-D1-NORMAL1-SECONDARY'\n",
    "#D1_NORMAL2_SECONDARY = 'D1/20151110180824-16km-D1-NORMAL2-SECONDARY'\n",
    "D1_NORMAL_MOTORWAY = 'D1/20151111123124-25km-D1-NORMAL-MOTORWAY'\n",
    "#D1_AGGRESSIVE_MOTORWAY = 'D1/20151111125233-24km-D1-AGGRESSIVE-MOTORWAY'\n",
    "D1_DROWSY_MOTORWAY = 'D1/20151111132348-25km-D1-DROWSY-MOTORWAY'        #5s delay\n",
    "D1_AGGRESSIVE_SECONDARY = 'D1/20151111134545-16km-D1-AGGRESSIVE-SECONDARY'\n",
    "#D1_DROWSY_SECONDARY = 'D1/20151111135612-13km-D1-DROWSY-SECONDARY'\n",
    "D2_NORMAL1_SECONDARY = 'D2/20151120160904-16km-D2-NORMAL1-SECONDARY'\n",
    "D2_NORMAL2_SECONDARY = 'D2/20151120162105-17km-D2-NORMAL2-SECONDARY'\n",
    "D2_NORMAL_MOTORWAY = 'D2/20151120131714-26km-D2-NORMAL-MOTORWAY'       #10s delay\n",
    "#D2_AGGRESSIVE_MOTORWAY = 'D2/20151120133502-26km-D2-AGGRESSIVE-MOTORWAY'\n",
    "D2_DROWSY_MOTORWAY = 'D2/20151120135152-25km-D2-DROWSY-MOTORWAY'\n",
    "D2_AGGRESSIVE_SECONDARY = 'D2/20151120163350-16km-D2-AGGRESSIVE-SECONDARY'\n",
    "D2_DROWSY_SECONDARY = 'D2/20151120164606-16km-D2-DROWSY-SECONDARY'\n",
    "#D3_NORMAL1_SECONDARY = 'D3/20151126124208-16km-D3-NORMAL1-SECONDARY'\n",
    "#D3_NORMAL2_SECONDARY = 'D3/20151126125458-16km-D3-NORMAL2-SECONDARY'\n",
    "D3_NORMAL_MOTORWAY = 'D3/20151126110502-26km-D3-NORMAL-MOTORWAY'\n",
    "D3_AGGRESSIVE_MOTORWAY = 'D3/20151126134736-26km-D3-AGGRESSIVE-MOTORWAY'\n",
    "D3_DROWSY_MOTORWAY = 'D3/20151126113754-26km-D3-DROWSY-MOTORWAY'\n",
    "D3_AGGRESSIVE_SECONDARY = 'D3/20151126130707-16km-D3-AGGRESSIVE-SECONDARY'\n",
    "#D3_DROWSY_SECONDARY = 'D3/20151126132013-17km-D3-DROWSY-SECONDARY'\n",
    "D4_NORMAL1_SECONDARY = 'D4/20151203171800-16km-D4-NORMAL1-SECONDARY'\n",
    "D4_NORMAL2_SECONDARY = 'D4/20151203173103-17km-D4-NORMAL2-SECONDARY'\n",
    "D4_NORMAL_MOTORWAY = 'D4/20151204152848-25km-D4-NORMAL-MOTORWAY'         #7s delay\n",
    "D4_AGGRESSIVE_MOTORWAY = 'D4/20151204154908-25km-D4-AGGRESSIVE-MOTORWAY'\n",
    "D4_DROWSY_MOTORWAY = 'D4/20151204160823-25km-D4-DROWSY-MOTORWAY'\n",
    "D4_AGGRESSIVE_SECONDARY = 'D4/20151203174324-16km-D4-AGGRESSIVE-SECONDARY'\n",
    "#D4_DROWSY_SECONDARY = 'D4/20151203175637-17km-D4-DROWSY-SECONDARY'\n",
    "#D5_NORMAL1_SECONDARY = 'D5/20151211162829-16km-D5-NORMAL1-SECONDARY'\n",
    "#D5_NORMAL2_SECONDARY = 'D5/20151211164124-17km-D5-NORMAL2-SECONDARY'\n",
    "D5_NORMAL_MOTORWAY = 'D5/20151209151242-25km-D5-NORMAL-MOTORWAY'         #5s delay\n",
    "D5_AGGRESSIVE_MOTORWAY = 'D5/20151209153137-25km-D5-AGGRESSIVE-MOTORWAY'\n",
    "#D5_DROWSY_MOTORWAY = 'D5/20151211160213-25km-D5-DROWSY-MOTORWAY'\n",
    "#D5_AGGRESSIVE_SECONDARY = 'D5/20151211165606-12km-D5-AGGRESSIVE-SECONDARY'\n",
    "#D5_DROWSY_SECONDARY = 'D5/20151211170502-16km-D5-DROWSY-SECONDARY'\n",
    "#D6_NORMAL_SECONDARY = 'D6/20151221112434-17km-D6-NORMAL-SECONDARY'\n",
    "D6_NORMAL_MOTORWAY = 'D6/20151217162714-26km-D6-NORMAL-MOTORWAY'         #9s delay\n",
    "D6_AGGRESSIVE_MOTORWAY = 'D6/20151221120051-26km-D6-AGGRESSIVE-MOTORWAY' #4s delay\n",
    "#D6_DROWSY_MOTORWAY = 'D6/20151217164730-25km-D6-DROWSY-MOTORWAY'\n",
    "#D6_DROWSY_SECONDARY = 'D6/20151221113846-16km-D6-DROWSY-SECONDARY'"
   ]
  },
  {
   "cell_type": "markdown",
   "id": "92a007cf",
   "metadata": {},
   "source": [
    "## Data Import"
   ]
  },
  {
   "cell_type": "markdown",
   "id": "0921cd49",
   "metadata": {},
   "source": [
    "<b>Please add your path in the below cell to load the data</b>"
   ]
  },
  {
   "cell_type": "code",
   "execution_count": 13,
   "id": "b67a2de7",
   "metadata": {},
   "outputs": [],
   "source": [
    "def raw_gps(path, driver_condition):\n",
    "    driver_condition = path + driver_condition\n",
    "    raw_gps = pd.read_csv(driver_condition+\"/RAW_GPS.txt\"\\\n",
    "                     ,sep = ' ',\\\n",
    "                     names=['Timestamp','Speed','Lat','Long','Altitude','VA','HA','Course','DC1','DC2','DC3','DC4'],\\\n",
    "                     index_col=False)\n",
    "    \n",
    "    df_gps =  raw_gps[['Timestamp','Speed']].copy()\n",
    "    df_gps['Timestamp']=df_gps['Timestamp']//1\n",
    "\n",
    "    x1=df_gps['Timestamp'].astype('int')\n",
    "    x1.drop_duplicates(inplace=True)\n",
    "\n",
    "    x2=df_gps.groupby('Timestamp')['Speed'].mean()\n",
    "\n",
    "    x1 = list(x1)\n",
    "    x2 = list(x2)\n",
    "\n",
    "    d = {'Timestamp': x1, 'Speed': x2}\n",
    "    df_gps2=pd.DataFrame(data=d)\n",
    "    return df_gps2\n"
   ]
  },
  {
   "cell_type": "code",
   "execution_count": 16,
   "id": "3352ad95",
   "metadata": {},
   "outputs": [
    {
     "data": {
      "text/html": [
       "<div>\n",
       "<style scoped>\n",
       "    .dataframe tbody tr th:only-of-type {\n",
       "        vertical-align: middle;\n",
       "    }\n",
       "\n",
       "    .dataframe tbody tr th {\n",
       "        vertical-align: top;\n",
       "    }\n",
       "\n",
       "    .dataframe thead th {\n",
       "        text-align: right;\n",
       "    }\n",
       "</style>\n",
       "<table border=\"1\" class=\"dataframe\">\n",
       "  <thead>\n",
       "    <tr style=\"text-align: right;\">\n",
       "      <th></th>\n",
       "      <th>Timestamp</th>\n",
       "      <th>Speed</th>\n",
       "    </tr>\n",
       "  </thead>\n",
       "  <tbody>\n",
       "    <tr>\n",
       "      <th>0</th>\n",
       "      <td>11</td>\n",
       "      <td>0.0</td>\n",
       "    </tr>\n",
       "    <tr>\n",
       "      <th>1</th>\n",
       "      <td>12</td>\n",
       "      <td>78.8</td>\n",
       "    </tr>\n",
       "    <tr>\n",
       "      <th>2</th>\n",
       "      <td>13</td>\n",
       "      <td>82.7</td>\n",
       "    </tr>\n",
       "    <tr>\n",
       "      <th>3</th>\n",
       "      <td>14</td>\n",
       "      <td>85.5</td>\n",
       "    </tr>\n",
       "    <tr>\n",
       "      <th>4</th>\n",
       "      <td>15</td>\n",
       "      <td>85.7</td>\n",
       "    </tr>\n",
       "  </tbody>\n",
       "</table>\n",
       "</div>"
      ],
      "text/plain": [
       "   Timestamp  Speed\n",
       "0         11    0.0\n",
       "1         12   78.8\n",
       "2         13   82.7\n",
       "3         14   85.5\n",
       "4         15   85.7"
      ]
     },
     "execution_count": 16,
     "metadata": {},
     "output_type": "execute_result"
    }
   ],
   "source": [
    "D1_NORMAL_MOTORWAY_GPS = raw_gps(path, D1_NORMAL_MOTORWAY)\n",
    "D1_NORMAL_MOTORWAY_GPS.head()"
   ]
  },
  {
   "cell_type": "code",
   "execution_count": null,
   "id": "50260525",
   "metadata": {},
   "outputs": [],
   "source": [
    "D1_NORMAL_MOTORWAY_GPS.describe()"
   ]
  },
  {
   "cell_type": "code",
   "execution_count": 17,
   "id": "b5cbea40",
   "metadata": {},
   "outputs": [],
   "source": [
    "def raw_acc(path, driver_condition):\n",
    "    driver_condition = path + driver_condition\n",
    "    raw_acc = pd.read_csv(driver_condition+ \"/RAW_ACCELEROMETERS.txt\",\\\n",
    "                     names=['Timestamp','Bool','A_x','A_y','A_z','KF_x','KF_y','KF_z','Roll','Pitch','Yaw'],sep=' ',\\\n",
    "                      index_col=False)\n",
    "    \n",
    "    df_raw_acc = raw_acc[['Timestamp','A_x','A_y','A_z']].copy()\n",
    "    df_raw_acc['Timestamp']=df_raw_acc['Timestamp']//1\n",
    "\n",
    "    x1=df_raw_acc['Timestamp'].astype(int)\n",
    "    x1.drop_duplicates(inplace=True)\n",
    "\n",
    "    x2=df_raw_acc.groupby('Timestamp')['A_x'].mean()\n",
    "    x3=df_raw_acc.groupby('Timestamp')['A_y'].mean()\n",
    "    x4=df_raw_acc.groupby('Timestamp')['A_z'].mean()\n",
    "\n",
    "    x1 = list(x1)\n",
    "    x2 = list(x2)\n",
    "    x3 = list(x3)\n",
    "    x4 = list(x4)\n",
    "\n",
    "    d = {'Timestamp': x1, 'A_x': x2, 'A_y':x3,'A_z':x4}\n",
    "    df_raw_accel = pd.DataFrame(data=d)\n",
    "    \n",
    "    return df_raw_accel"
   ]
  },
  {
   "cell_type": "code",
   "execution_count": 18,
   "id": "e93afe0a",
   "metadata": {},
   "outputs": [
    {
     "data": {
      "text/html": [
       "<div>\n",
       "<style scoped>\n",
       "    .dataframe tbody tr th:only-of-type {\n",
       "        vertical-align: middle;\n",
       "    }\n",
       "\n",
       "    .dataframe tbody tr th {\n",
       "        vertical-align: top;\n",
       "    }\n",
       "\n",
       "    .dataframe thead th {\n",
       "        text-align: right;\n",
       "    }\n",
       "</style>\n",
       "<table border=\"1\" class=\"dataframe\">\n",
       "  <thead>\n",
       "    <tr style=\"text-align: right;\">\n",
       "      <th></th>\n",
       "      <th>Timestamp</th>\n",
       "      <th>A_x</th>\n",
       "      <th>A_y</th>\n",
       "      <th>A_z</th>\n",
       "    </tr>\n",
       "  </thead>\n",
       "  <tbody>\n",
       "    <tr>\n",
       "      <th>0</th>\n",
       "      <td>0</td>\n",
       "      <td>0.045778</td>\n",
       "      <td>0.120778</td>\n",
       "      <td>0.017444</td>\n",
       "    </tr>\n",
       "    <tr>\n",
       "      <th>1</th>\n",
       "      <td>1</td>\n",
       "      <td>-0.034100</td>\n",
       "      <td>0.079600</td>\n",
       "      <td>-0.084500</td>\n",
       "    </tr>\n",
       "    <tr>\n",
       "      <th>2</th>\n",
       "      <td>2</td>\n",
       "      <td>-0.032800</td>\n",
       "      <td>-0.119600</td>\n",
       "      <td>-0.067000</td>\n",
       "    </tr>\n",
       "    <tr>\n",
       "      <th>3</th>\n",
       "      <td>3</td>\n",
       "      <td>-0.014500</td>\n",
       "      <td>-0.232900</td>\n",
       "      <td>-0.043400</td>\n",
       "    </tr>\n",
       "    <tr>\n",
       "      <th>4</th>\n",
       "      <td>4</td>\n",
       "      <td>-0.038600</td>\n",
       "      <td>-0.248000</td>\n",
       "      <td>-0.072400</td>\n",
       "    </tr>\n",
       "  </tbody>\n",
       "</table>\n",
       "</div>"
      ],
      "text/plain": [
       "   Timestamp       A_x       A_y       A_z\n",
       "0          0  0.045778  0.120778  0.017444\n",
       "1          1 -0.034100  0.079600 -0.084500\n",
       "2          2 -0.032800 -0.119600 -0.067000\n",
       "3          3 -0.014500 -0.232900 -0.043400\n",
       "4          4 -0.038600 -0.248000 -0.072400"
      ]
     },
     "execution_count": 18,
     "metadata": {},
     "output_type": "execute_result"
    }
   ],
   "source": [
    "D1_NORMAL_MOTORWAY_RAW_ACC = raw_acc(path, D1_NORMAL_MOTORWAY)\n",
    "D1_NORMAL_MOTORWAY_RAW_ACC.head()"
   ]
  },
  {
   "cell_type": "code",
   "execution_count": null,
   "id": "c6f8970b",
   "metadata": {},
   "outputs": [],
   "source": [
    "D1_NORMAL_MOTORWAY_RAW_ACC.describe()"
   ]
  },
  {
   "cell_type": "code",
   "execution_count": 19,
   "id": "87878c9c",
   "metadata": {},
   "outputs": [],
   "source": [
    "def proc_lane_det(path, driver_condition):\n",
    "    driver_condition = path + driver_condition\n",
    "    proc_lane_det = pd.read_csv(driver_condition+ \"/PROC_LANE_DETECTION.txt\",\\\n",
    "                     names=['Timestamp','X_pos','Phi_angle','Road_width','Lane_state'],sep=' ',index_col=False)\n",
    "    \n",
    "    df_lane_det = proc_lane_det[['Timestamp','X_pos','Phi_angle','Road_width']].copy()\n",
    "    df_lane_det['Timestamp']=df_lane_det['Timestamp']//1\n",
    "\n",
    "    x1=df_lane_det['Timestamp'].astype('int')\n",
    "    x1.drop_duplicates(inplace=True)\n",
    "    x2=df_lane_det.groupby('Timestamp')['X_pos'].max()\n",
    "    x3=df_lane_det.groupby('Timestamp')['Phi_angle'].max()\n",
    "    x4=df_lane_det.groupby('Timestamp')['Road_width'].max()\n",
    "    x1 = list(x1)\n",
    "    x2 = list(x2)\n",
    "    x3 = list(x3)\n",
    "    x4 = list(x4)\n",
    "\n",
    "    d = {'Timestamp': x1, 'X_pos': x2, 'Phi_angle':x3,'Road_width':x4}\n",
    "    df_lane_det = pd.DataFrame(data=d)\n",
    "    \n",
    "    return df_lane_det"
   ]
  },
  {
   "cell_type": "code",
   "execution_count": 20,
   "id": "7c6f63f3",
   "metadata": {},
   "outputs": [
    {
     "data": {
      "text/html": [
       "<div>\n",
       "<style scoped>\n",
       "    .dataframe tbody tr th:only-of-type {\n",
       "        vertical-align: middle;\n",
       "    }\n",
       "\n",
       "    .dataframe tbody tr th {\n",
       "        vertical-align: top;\n",
       "    }\n",
       "\n",
       "    .dataframe thead th {\n",
       "        text-align: right;\n",
       "    }\n",
       "</style>\n",
       "<table border=\"1\" class=\"dataframe\">\n",
       "  <thead>\n",
       "    <tr style=\"text-align: right;\">\n",
       "      <th></th>\n",
       "      <th>Timestamp</th>\n",
       "      <th>X_pos</th>\n",
       "      <th>Phi_angle</th>\n",
       "      <th>Road_width</th>\n",
       "    </tr>\n",
       "  </thead>\n",
       "  <tbody>\n",
       "    <tr>\n",
       "      <th>0</th>\n",
       "      <td>10</td>\n",
       "      <td>-9.0</td>\n",
       "      <td>-9.000</td>\n",
       "      <td>-9.0</td>\n",
       "    </tr>\n",
       "    <tr>\n",
       "      <th>1</th>\n",
       "      <td>11</td>\n",
       "      <td>-9.0</td>\n",
       "      <td>-9.000</td>\n",
       "      <td>-9.0</td>\n",
       "    </tr>\n",
       "    <tr>\n",
       "      <th>2</th>\n",
       "      <td>12</td>\n",
       "      <td>0.0</td>\n",
       "      <td>-0.000</td>\n",
       "      <td>3.5</td>\n",
       "    </tr>\n",
       "    <tr>\n",
       "      <th>3</th>\n",
       "      <td>13</td>\n",
       "      <td>0.0</td>\n",
       "      <td>-0.000</td>\n",
       "      <td>3.5</td>\n",
       "    </tr>\n",
       "    <tr>\n",
       "      <th>4</th>\n",
       "      <td>14</td>\n",
       "      <td>0.3</td>\n",
       "      <td>0.047</td>\n",
       "      <td>3.5</td>\n",
       "    </tr>\n",
       "  </tbody>\n",
       "</table>\n",
       "</div>"
      ],
      "text/plain": [
       "   Timestamp  X_pos  Phi_angle  Road_width\n",
       "0         10   -9.0     -9.000        -9.0\n",
       "1         11   -9.0     -9.000        -9.0\n",
       "2         12    0.0     -0.000         3.5\n",
       "3         13    0.0     -0.000         3.5\n",
       "4         14    0.3      0.047         3.5"
      ]
     },
     "execution_count": 20,
     "metadata": {},
     "output_type": "execute_result"
    }
   ],
   "source": [
    "D1_NORMAL_MOTORWAY_LANE_DET = proc_lane_det(path, D1_NORMAL_MOTORWAY)\n",
    "D1_NORMAL_MOTORWAY_LANE_DET.head()"
   ]
  },
  {
   "cell_type": "code",
   "execution_count": null,
   "id": "fcf33b3a",
   "metadata": {},
   "outputs": [],
   "source": [
    "D1_NORMAL_MOTORWAY_LANE_DET.describe()"
   ]
  },
  {
   "cell_type": "code",
   "execution_count": 21,
   "id": "3895fe1e",
   "metadata": {},
   "outputs": [],
   "source": [
    "def proc_veh_det(path, driver_condition):\n",
    "    \n",
    "    driver_condition = path+driver_condition\n",
    "    \n",
    "    proc_veh_det = pd.read_csv(driver_condition+\"/PROC_VEHICLE_DETECTION.txt\",\\\n",
    "                     names=['Timestamp','Dist_Veh','TOI','No_Of_Veh','GPS'],sep=' ',index_col=False)\n",
    "    \n",
    "    df_veh_det = proc_veh_det[['Timestamp','Dist_Veh','No_Of_Veh','GPS']].copy()\n",
    "    df_veh_det['Dist_Veh'] = df_veh_det['Dist_Veh'].replace(-1.0,999)\n",
    "    df_veh_det['Timestamp']=df_veh_det['Timestamp']//1\n",
    "\n",
    "    x1=df_veh_det['Timestamp'].astype('int')\n",
    "    x1.drop_duplicates(inplace=True)\n",
    "\n",
    "    x2=df_veh_det.groupby('Timestamp')['No_Of_Veh'].max()\n",
    "    x3=df_veh_det.groupby('Timestamp')['Dist_Veh'].min()\n",
    "    x4=df_veh_det.groupby('Timestamp')['GPS'].mean()\n",
    "\n",
    "    x1 = list(x1)\n",
    "    x2 = list(x2)\n",
    "    x3 = list(x3)\n",
    "    x4 = list(x4)\n",
    "\n",
    "    d = {'Timestamp': x1, 'No_Of_Veh': x2, 'Dist_Veh':x3,'GPS':x4}\n",
    "    df_veh_det = pd.DataFrame(data=d)\n",
    "    \n",
    "    return df_veh_det"
   ]
  },
  {
   "cell_type": "code",
   "execution_count": 22,
   "id": "8f23ed9c",
   "metadata": {},
   "outputs": [
    {
     "data": {
      "text/html": [
       "<div>\n",
       "<style scoped>\n",
       "    .dataframe tbody tr th:only-of-type {\n",
       "        vertical-align: middle;\n",
       "    }\n",
       "\n",
       "    .dataframe tbody tr th {\n",
       "        vertical-align: top;\n",
       "    }\n",
       "\n",
       "    .dataframe thead th {\n",
       "        text-align: right;\n",
       "    }\n",
       "</style>\n",
       "<table border=\"1\" class=\"dataframe\">\n",
       "  <thead>\n",
       "    <tr style=\"text-align: right;\">\n",
       "      <th></th>\n",
       "      <th>Timestamp</th>\n",
       "      <th>No_Of_Veh</th>\n",
       "      <th>Dist_Veh</th>\n",
       "      <th>GPS</th>\n",
       "    </tr>\n",
       "  </thead>\n",
       "  <tbody>\n",
       "    <tr>\n",
       "      <th>0</th>\n",
       "      <td>12</td>\n",
       "      <td>0</td>\n",
       "      <td>999.0</td>\n",
       "      <td>77.800000</td>\n",
       "    </tr>\n",
       "    <tr>\n",
       "      <th>1</th>\n",
       "      <td>13</td>\n",
       "      <td>0</td>\n",
       "      <td>999.0</td>\n",
       "      <td>79.287500</td>\n",
       "    </tr>\n",
       "    <tr>\n",
       "      <th>2</th>\n",
       "      <td>14</td>\n",
       "      <td>0</td>\n",
       "      <td>999.0</td>\n",
       "      <td>83.050000</td>\n",
       "    </tr>\n",
       "    <tr>\n",
       "      <th>3</th>\n",
       "      <td>15</td>\n",
       "      <td>0</td>\n",
       "      <td>999.0</td>\n",
       "      <td>85.540000</td>\n",
       "    </tr>\n",
       "    <tr>\n",
       "      <th>4</th>\n",
       "      <td>16</td>\n",
       "      <td>0</td>\n",
       "      <td>999.0</td>\n",
       "      <td>85.655556</td>\n",
       "    </tr>\n",
       "  </tbody>\n",
       "</table>\n",
       "</div>"
      ],
      "text/plain": [
       "   Timestamp  No_Of_Veh  Dist_Veh        GPS\n",
       "0         12          0     999.0  77.800000\n",
       "1         13          0     999.0  79.287500\n",
       "2         14          0     999.0  83.050000\n",
       "3         15          0     999.0  85.540000\n",
       "4         16          0     999.0  85.655556"
      ]
     },
     "execution_count": 22,
     "metadata": {},
     "output_type": "execute_result"
    }
   ],
   "source": [
    "D1_NORMAL_MOTORWAY_VEH_DET = proc_veh_det(path, D1_NORMAL_MOTORWAY)\n",
    "D1_NORMAL_MOTORWAY_VEH_DET.head()"
   ]
  },
  {
   "cell_type": "code",
   "execution_count": 23,
   "id": "c6c9d314",
   "metadata": {},
   "outputs": [],
   "source": [
    "def evn_lane_chg(path, driver_condition):\n",
    "    \n",
    "    driver_condition = path+driver_condition\n",
    "    \n",
    "    evn_lane_chg = pd.read_csv(driver_condition+\"/EVENTS_LIST_LANE_CHANGES.txt\",\\\n",
    "                     names=['Timestamp','Type','Lat','Lon','Duration','Threshold'],sep=' ',index_col=False)\n",
    "    \n",
    "    df_lane_chg = evn_lane_chg[['Timestamp','Type']].copy()\n",
    "    df_lane_chg['Timestamp'] = (df_lane_chg['Timestamp']//1).astype(int)\n",
    "    df_lane_chg.rename(columns={\"Type\": \"Lane_Change\"},inplace=True)\n",
    "    df_lane_chg.drop_duplicates(inplace=True)\n",
    "    \n",
    "    return df_lane_chg\n",
    "    "
   ]
  },
  {
   "cell_type": "code",
   "execution_count": 24,
   "id": "41f10e06",
   "metadata": {},
   "outputs": [
    {
     "data": {
      "text/html": [
       "<div>\n",
       "<style scoped>\n",
       "    .dataframe tbody tr th:only-of-type {\n",
       "        vertical-align: middle;\n",
       "    }\n",
       "\n",
       "    .dataframe tbody tr th {\n",
       "        vertical-align: top;\n",
       "    }\n",
       "\n",
       "    .dataframe thead th {\n",
       "        text-align: right;\n",
       "    }\n",
       "</style>\n",
       "<table border=\"1\" class=\"dataframe\">\n",
       "  <thead>\n",
       "    <tr style=\"text-align: right;\">\n",
       "      <th></th>\n",
       "      <th>Timestamp</th>\n",
       "      <th>Lane_Change</th>\n",
       "    </tr>\n",
       "  </thead>\n",
       "  <tbody>\n",
       "    <tr>\n",
       "      <th>0</th>\n",
       "      <td>18</td>\n",
       "      <td>-1</td>\n",
       "    </tr>\n",
       "    <tr>\n",
       "      <th>1</th>\n",
       "      <td>33</td>\n",
       "      <td>-1</td>\n",
       "    </tr>\n",
       "    <tr>\n",
       "      <th>2</th>\n",
       "      <td>54</td>\n",
       "      <td>-1</td>\n",
       "    </tr>\n",
       "    <tr>\n",
       "      <th>3</th>\n",
       "      <td>64</td>\n",
       "      <td>1</td>\n",
       "    </tr>\n",
       "    <tr>\n",
       "      <th>4</th>\n",
       "      <td>81</td>\n",
       "      <td>1</td>\n",
       "    </tr>\n",
       "  </tbody>\n",
       "</table>\n",
       "</div>"
      ],
      "text/plain": [
       "   Timestamp  Lane_Change\n",
       "0         18           -1\n",
       "1         33           -1\n",
       "2         54           -1\n",
       "3         64            1\n",
       "4         81            1"
      ]
     },
     "execution_count": 24,
     "metadata": {},
     "output_type": "execute_result"
    }
   ],
   "source": [
    "D1_NORMAL_MOTORWAY_LANE_CHG = evn_lane_chg(path, D1_NORMAL_MOTORWAY)\n",
    "D1_NORMAL_MOTORWAY_LANE_CHG.head()"
   ]
  },
  {
   "cell_type": "code",
   "execution_count": null,
   "id": "53ad5b92",
   "metadata": {},
   "outputs": [],
   "source": [
    "D1_NORMAL_MOTORWAY_LANE_CHG.describe()"
   ]
  },
  {
   "cell_type": "code",
   "execution_count": 25,
   "id": "eb19c610",
   "metadata": {},
   "outputs": [],
   "source": [
    "D1_DROWSY_MOTORWAY_GPS = raw_gps(path, D1_DROWSY_MOTORWAY)\n",
    "D1_DROWSY_MOTORWAY_RAW_ACC= raw_acc(path, D1_DROWSY_MOTORWAY)\n",
    "D1_DROWSY_MOTORWAY_VEH_DET= proc_veh_det(path, D1_DROWSY_MOTORWAY)\n",
    "D1_DROWSY_MOTORWAY_LANE_DET = proc_lane_det(path, D1_DROWSY_MOTORWAY)\n",
    "D1_DROWSY_MOTORWAY_LANE_CHG = evn_lane_chg(path, D1_DROWSY_MOTORWAY)"
   ]
  },
  {
   "cell_type": "code",
   "execution_count": 26,
   "id": "d2983d7d",
   "metadata": {
    "scrolled": false
   },
   "outputs": [
    {
     "data": {
      "text/html": [
       "<div>\n",
       "<style scoped>\n",
       "    .dataframe tbody tr th:only-of-type {\n",
       "        vertical-align: middle;\n",
       "    }\n",
       "\n",
       "    .dataframe tbody tr th {\n",
       "        vertical-align: top;\n",
       "    }\n",
       "\n",
       "    .dataframe thead th {\n",
       "        text-align: right;\n",
       "    }\n",
       "</style>\n",
       "<table border=\"1\" class=\"dataframe\">\n",
       "  <thead>\n",
       "    <tr style=\"text-align: right;\">\n",
       "      <th></th>\n",
       "      <th>Timestamp</th>\n",
       "      <th>Lane_Change</th>\n",
       "    </tr>\n",
       "  </thead>\n",
       "  <tbody>\n",
       "    <tr>\n",
       "      <th>0</th>\n",
       "      <td>23</td>\n",
       "      <td>-1</td>\n",
       "    </tr>\n",
       "    <tr>\n",
       "      <th>1</th>\n",
       "      <td>44</td>\n",
       "      <td>-2</td>\n",
       "    </tr>\n",
       "    <tr>\n",
       "      <th>2</th>\n",
       "      <td>84</td>\n",
       "      <td>1</td>\n",
       "    </tr>\n",
       "    <tr>\n",
       "      <th>3</th>\n",
       "      <td>142</td>\n",
       "      <td>-1</td>\n",
       "    </tr>\n",
       "    <tr>\n",
       "      <th>4</th>\n",
       "      <td>156</td>\n",
       "      <td>1</td>\n",
       "    </tr>\n",
       "  </tbody>\n",
       "</table>\n",
       "</div>"
      ],
      "text/plain": [
       "   Timestamp  Lane_Change\n",
       "0         23           -1\n",
       "1         44           -2\n",
       "2         84            1\n",
       "3        142           -1\n",
       "4        156            1"
      ]
     },
     "execution_count": 26,
     "metadata": {},
     "output_type": "execute_result"
    }
   ],
   "source": [
    "D1_DROWSY_MOTORWAY_LANE_CHG['Timestamp']= D1_DROWSY_MOTORWAY_LANE_CHG['Timestamp']+5  #5s delay in the timestamp\n",
    "D1_DROWSY_MOTORWAY_LANE_CHG.head()"
   ]
  },
  {
   "cell_type": "code",
   "execution_count": 27,
   "id": "51eff08f",
   "metadata": {},
   "outputs": [],
   "source": [
    "D2_NORMAL_MOTORWAY_GPS = raw_gps(path, D2_NORMAL_MOTORWAY)\n",
    "D2_NORMAL_MOTORWAY_RAW_ACC= raw_acc(path, D2_NORMAL_MOTORWAY)\n",
    "D2_NORMAL_MOTORWAY_VEH_DET= proc_veh_det(path, D2_NORMAL_MOTORWAY)\n",
    "D2_NORMAL_MOTORWAY_LANE_DET = proc_lane_det(path, D2_NORMAL_MOTORWAY)\n",
    "D2_NORMAL_MOTORWAY_LANE_CHG = evn_lane_chg(path, D2_NORMAL_MOTORWAY)"
   ]
  },
  {
   "cell_type": "code",
   "execution_count": 28,
   "id": "8cada648",
   "metadata": {},
   "outputs": [],
   "source": [
    "D2_NORMAL_MOTORWAY_LANE_CHG['Timestamp'] = D2_NORMAL_MOTORWAY_LANE_CHG['Timestamp']+10 #10s delay in the timestamp"
   ]
  },
  {
   "cell_type": "code",
   "execution_count": 29,
   "id": "4659fae3",
   "metadata": {},
   "outputs": [],
   "source": [
    "D3_NORMAL_MOTORWAY_GPS = raw_gps(path, D3_NORMAL_MOTORWAY)\n",
    "D3_NORMAL_MOTORWAY_RAW_ACC= raw_acc(path, D3_NORMAL_MOTORWAY)\n",
    "D3_NORMAL_MOTORWAY_VEH_DET= proc_veh_det(path, D3_NORMAL_MOTORWAY)\n",
    "D3_NORMAL_MOTORWAY_LANE_DET = proc_lane_det(path, D3_NORMAL_MOTORWAY)\n",
    "D3_NORMAL_MOTORWAY_LANE_CHG = evn_lane_chg(path, D3_NORMAL_MOTORWAY)"
   ]
  },
  {
   "cell_type": "code",
   "execution_count": 30,
   "id": "01311e25",
   "metadata": {},
   "outputs": [],
   "source": [
    "D3_AGGRESSIVE_MOTORWAY_GPS = raw_gps(path, D3_AGGRESSIVE_MOTORWAY)\n",
    "D3_AGGRESSIVE_MOTORWAY_RAW_ACC= raw_acc(path, D3_AGGRESSIVE_MOTORWAY)\n",
    "D3_AGGRESSIVE_MOTORWAY_VEH_DET= proc_veh_det(path, D3_AGGRESSIVE_MOTORWAY)\n",
    "D3_AGGRESSIVE_MOTORWAY_LANE_DET = proc_lane_det(path, D3_AGGRESSIVE_MOTORWAY)\n",
    "D3_AGGRESSIVE_MOTORWAY_LANE_CHG = evn_lane_chg(path, D3_AGGRESSIVE_MOTORWAY)"
   ]
  },
  {
   "cell_type": "code",
   "execution_count": 31,
   "id": "12720325",
   "metadata": {},
   "outputs": [],
   "source": [
    "D3_DROWSY_MOTORWAY_GPS = raw_gps(path, D3_DROWSY_MOTORWAY)\n",
    "D3_DROWSY_MOTORWAY_RAW_ACC= raw_acc(path, D3_DROWSY_MOTORWAY)\n",
    "D3_DROWSY_MOTORWAY_VEH_DET= proc_veh_det(path, D3_DROWSY_MOTORWAY)\n",
    "D3_DROWSY_MOTORWAY_LANE_DET = proc_lane_det(path, D3_DROWSY_MOTORWAY)\n",
    "D3_DROWSY_MOTORWAY_LANE_CHG = evn_lane_chg(path, D3_DROWSY_MOTORWAY)"
   ]
  },
  {
   "cell_type": "code",
   "execution_count": 32,
   "id": "56991b0b",
   "metadata": {},
   "outputs": [],
   "source": [
    "D4_NORMAL_MOTORWAY_GPS = raw_gps(path, D4_NORMAL_MOTORWAY)\n",
    "D4_NORMAL_MOTORWAY_RAW_ACC= raw_acc(path, D4_NORMAL_MOTORWAY)\n",
    "D4_NORMAL_MOTORWAY_VEH_DET= proc_veh_det(path, D4_NORMAL_MOTORWAY)\n",
    "D4_NORMAL_MOTORWAY_LANE_DET = proc_lane_det(path, D4_NORMAL_MOTORWAY)\n",
    "D4_NORMAL_MOTORWAY_LANE_CHG = evn_lane_chg(path, D4_NORMAL_MOTORWAY)"
   ]
  },
  {
   "cell_type": "code",
   "execution_count": 33,
   "id": "cf5c4ec6",
   "metadata": {},
   "outputs": [],
   "source": [
    "D4_NORMAL_MOTORWAY_LANE_CHG['Timestamp'] = D4_NORMAL_MOTORWAY_LANE_CHG['Timestamp']+7 #7s delay in the timestamp"
   ]
  },
  {
   "cell_type": "code",
   "execution_count": 34,
   "id": "1f522080",
   "metadata": {},
   "outputs": [],
   "source": [
    "D4_AGGRESSIVE_MOTORWAY_GPS = raw_gps(path, D4_AGGRESSIVE_MOTORWAY)\n",
    "D4_AGGRESSIVE_MOTORWAY_RAW_ACC= raw_acc(path, D4_AGGRESSIVE_MOTORWAY)\n",
    "D4_AGGRESSIVE_MOTORWAY_VEH_DET= proc_veh_det(path, D4_AGGRESSIVE_MOTORWAY)\n",
    "D4_AGGRESSIVE_MOTORWAY_LANE_DET = proc_lane_det(path, D4_AGGRESSIVE_MOTORWAY)\n",
    "D4_AGGRESSIVE_MOTORWAY_LANE_CHG = evn_lane_chg(path, D4_AGGRESSIVE_MOTORWAY)"
   ]
  },
  {
   "cell_type": "code",
   "execution_count": 35,
   "id": "71b2ad5a",
   "metadata": {},
   "outputs": [],
   "source": [
    "D4_DROWSY_MOTORWAY_GPS = raw_gps(path, D4_DROWSY_MOTORWAY)\n",
    "D4_DROWSY_MOTORWAY_RAW_ACC= raw_acc(path, D4_DROWSY_MOTORWAY)\n",
    "D4_DROWSY_MOTORWAY_VEH_DET= proc_veh_det(path, D4_DROWSY_MOTORWAY)\n",
    "D4_DROWSY_MOTORWAY_LANE_DET = proc_lane_det(path, D4_DROWSY_MOTORWAY)\n",
    "D4_DROWSY_MOTORWAY_LANE_CHG = evn_lane_chg(path, D4_DROWSY_MOTORWAY)"
   ]
  },
  {
   "cell_type": "code",
   "execution_count": 36,
   "id": "a1403432",
   "metadata": {},
   "outputs": [],
   "source": [
    "D5_NORMAL_MOTORWAY_GPS = raw_gps(path, D5_NORMAL_MOTORWAY)\n",
    "D5_NORMAL_MOTORWAY_RAW_ACC= raw_acc(path, D5_NORMAL_MOTORWAY)\n",
    "D5_NORMAL_MOTORWAY_VEH_DET= proc_veh_det(path, D5_NORMAL_MOTORWAY)\n",
    "D5_NORMAL_MOTORWAY_LANE_DET = proc_lane_det(path, D5_NORMAL_MOTORWAY)\n",
    "D5_NORMAL_MOTORWAY_LANE_CHG = evn_lane_chg(path, D5_NORMAL_MOTORWAY)"
   ]
  },
  {
   "cell_type": "code",
   "execution_count": 37,
   "id": "e0a8a0ef",
   "metadata": {},
   "outputs": [],
   "source": [
    "D5_NORMAL_MOTORWAY_LANE_CHG['Timestamp'] = D5_NORMAL_MOTORWAY_LANE_CHG['Timestamp']+5 #5s delay in the timestamp"
   ]
  },
  {
   "cell_type": "code",
   "execution_count": 38,
   "id": "30bad161",
   "metadata": {},
   "outputs": [],
   "source": [
    "D5_AGGRESSIVE_MOTORWAY_GPS = raw_gps(path,D5_AGGRESSIVE_MOTORWAY)\n",
    "D5_AGGRESSIVE_MOTORWAY_RAW_ACC= raw_acc(path, D5_AGGRESSIVE_MOTORWAY)\n",
    "D5_AGGRESSIVE_MOTORWAY_VEH_DET= proc_veh_det(path, D5_AGGRESSIVE_MOTORWAY)\n",
    "D5_AGGRESSIVE_MOTORWAY_LANE_DET = proc_lane_det(path, D5_AGGRESSIVE_MOTORWAY)\n",
    "D5_AGGRESSIVE_MOTORWAY_LANE_CHG = evn_lane_chg(path, D5_AGGRESSIVE_MOTORWAY)"
   ]
  },
  {
   "cell_type": "code",
   "execution_count": 39,
   "id": "be29565a",
   "metadata": {},
   "outputs": [],
   "source": [
    "D6_NORMAL_MOTORWAY_GPS = raw_gps(path,D6_NORMAL_MOTORWAY)\n",
    "D6_NORMAL_MOTORWAY_RAW_ACC= raw_acc(path, D6_NORMAL_MOTORWAY)\n",
    "D6_NORMAL_MOTORWAY_VEH_DET= proc_veh_det(path, D6_NORMAL_MOTORWAY)\n",
    "D6_NORMAL_MOTORWAY_LANE_DET = proc_lane_det(path, D6_NORMAL_MOTORWAY)\n",
    "D6_NORMAL_MOTORWAY_LANE_CHG = evn_lane_chg(path, D6_NORMAL_MOTORWAY)"
   ]
  },
  {
   "cell_type": "code",
   "execution_count": 40,
   "id": "bbd714e5",
   "metadata": {},
   "outputs": [],
   "source": [
    "D6_NORMAL_MOTORWAY_LANE_CHG['Timestamp'] = D6_NORMAL_MOTORWAY_LANE_CHG['Timestamp']+9 #9s delay in the timestamp"
   ]
  },
  {
   "cell_type": "code",
   "execution_count": 41,
   "id": "5a45e95e",
   "metadata": {},
   "outputs": [],
   "source": [
    "D6_AGGRESSIVE_MOTORWAY_GPS = raw_gps(path,D6_AGGRESSIVE_MOTORWAY)\n",
    "D6_AGGRESSIVE_MOTORWAY_RAW_ACC= raw_acc(path, D6_AGGRESSIVE_MOTORWAY)\n",
    "D6_AGGRESSIVE_MOTORWAY_VEH_DET= proc_veh_det(path, D6_AGGRESSIVE_MOTORWAY)\n",
    "D6_AGGRESSIVE_MOTORWAY_LANE_DET = proc_lane_det(path, D6_AGGRESSIVE_MOTORWAY)\n",
    "D6_AGGRESSIVE_MOTORWAY_LANE_CHG = evn_lane_chg(path, D6_AGGRESSIVE_MOTORWAY)"
   ]
  },
  {
   "cell_type": "code",
   "execution_count": 42,
   "id": "557d3824",
   "metadata": {},
   "outputs": [],
   "source": [
    "D6_AGGRESSIVE_MOTORWAY_LANE_CHG['Timestamp'] = D6_AGGRESSIVE_MOTORWAY_LANE_CHG['Timestamp']+4 #4s delay in the timestamp"
   ]
  },
  {
   "cell_type": "markdown",
   "id": "9b1bdad9",
   "metadata": {},
   "source": [
    "### Merging"
   ]
  },
  {
   "cell_type": "code",
   "execution_count": 43,
   "id": "d53ea397",
   "metadata": {},
   "outputs": [],
   "source": [
    "def mergefiles(df_gps,df,df_veh_det,df_lane_det,df_lane_chg):\n",
    "    df_merged=df.merge(df_gps,how='left',on='Timestamp')\n",
    "\n",
    "    df_merged=df_merged.merge(df_lane_chg,how='left',on='Timestamp')\n",
    "\n",
    "    df_merged=df_merged.merge(df_veh_det,how='left',on='Timestamp')\n",
    "\n",
    "    df_merged=df_merged.merge(df_lane_det,how='left',on='Timestamp')\n",
    "    \n",
    "    return df_merged\n"
   ]
  },
  {
   "cell_type": "code",
   "execution_count": 44,
   "id": "07af500b",
   "metadata": {
    "scrolled": true
   },
   "outputs": [],
   "source": [
    "frame_1=[D1_NORMAL_MOTORWAY_GPS, D1_NORMAL_MOTORWAY_RAW_ACC, D1_NORMAL_MOTORWAY_VEH_DET, D1_NORMAL_MOTORWAY_LANE_DET, D1_NORMAL_MOTORWAY_LANE_CHG]\n",
    "frame_2= [D1_DROWSY_MOTORWAY_GPS, D1_DROWSY_MOTORWAY_RAW_ACC, D1_DROWSY_MOTORWAY_VEH_DET, D1_DROWSY_MOTORWAY_LANE_DET, D1_DROWSY_MOTORWAY_LANE_CHG] # list of dataframes\n",
    "frame_3=[D2_NORMAL_MOTORWAY_GPS, D2_NORMAL_MOTORWAY_RAW_ACC, D2_NORMAL_MOTORWAY_VEH_DET, D2_NORMAL_MOTORWAY_LANE_DET, D2_NORMAL_MOTORWAY_LANE_CHG]\n",
    "frame_4=[D3_NORMAL_MOTORWAY_GPS, D3_NORMAL_MOTORWAY_RAW_ACC, D3_NORMAL_MOTORWAY_VEH_DET, D3_NORMAL_MOTORWAY_LANE_DET, D3_NORMAL_MOTORWAY_LANE_CHG]\n",
    "frame_5=[D3_AGGRESSIVE_MOTORWAY_GPS, D3_AGGRESSIVE_MOTORWAY_RAW_ACC, D3_AGGRESSIVE_MOTORWAY_VEH_DET, D3_AGGRESSIVE_MOTORWAY_LANE_DET, D3_AGGRESSIVE_MOTORWAY_LANE_CHG]\n",
    "frame_6=[D3_DROWSY_MOTORWAY_GPS, D3_DROWSY_MOTORWAY_RAW_ACC, D3_DROWSY_MOTORWAY_VEH_DET, D3_DROWSY_MOTORWAY_LANE_DET, D3_DROWSY_MOTORWAY_LANE_CHG]\n",
    "frame_7=[D4_NORMAL_MOTORWAY_GPS, D4_NORMAL_MOTORWAY_RAW_ACC, D4_NORMAL_MOTORWAY_VEH_DET, D4_NORMAL_MOTORWAY_LANE_DET, D4_NORMAL_MOTORWAY_LANE_CHG]\n",
    "frame_8=[D4_AGGRESSIVE_MOTORWAY_GPS, D4_AGGRESSIVE_MOTORWAY_RAW_ACC, D4_AGGRESSIVE_MOTORWAY_VEH_DET, D4_AGGRESSIVE_MOTORWAY_LANE_DET, D4_AGGRESSIVE_MOTORWAY_LANE_CHG]\n",
    "frame_9=[D4_DROWSY_MOTORWAY_GPS, D4_DROWSY_MOTORWAY_RAW_ACC, D4_DROWSY_MOTORWAY_VEH_DET, D4_DROWSY_MOTORWAY_LANE_DET, D4_DROWSY_MOTORWAY_LANE_CHG]\n",
    "frame_10=[D5_NORMAL_MOTORWAY_GPS, D5_NORMAL_MOTORWAY_RAW_ACC, D5_NORMAL_MOTORWAY_VEH_DET, D5_NORMAL_MOTORWAY_LANE_DET, D5_NORMAL_MOTORWAY_LANE_CHG]\n",
    "frame_11=[D5_AGGRESSIVE_MOTORWAY_GPS, D5_AGGRESSIVE_MOTORWAY_RAW_ACC, D5_AGGRESSIVE_MOTORWAY_VEH_DET, D5_AGGRESSIVE_MOTORWAY_LANE_DET, D5_AGGRESSIVE_MOTORWAY_LANE_CHG]\n",
    "frame_12=[D6_NORMAL_MOTORWAY_GPS, D6_NORMAL_MOTORWAY_RAW_ACC, D6_NORMAL_MOTORWAY_VEH_DET, D6_NORMAL_MOTORWAY_LANE_DET, D6_NORMAL_MOTORWAY_LANE_CHG]\n",
    "frame_13=[D6_AGGRESSIVE_MOTORWAY_GPS, D6_AGGRESSIVE_MOTORWAY_RAW_ACC, D6_AGGRESSIVE_MOTORWAY_VEH_DET, D6_AGGRESSIVE_MOTORWAY_LANE_DET, D6_AGGRESSIVE_MOTORWAY_LANE_CHG]"
   ]
  },
  {
   "cell_type": "code",
   "execution_count": 45,
   "id": "bffd1bf8",
   "metadata": {},
   "outputs": [],
   "source": [
    "D1_NORMAL_MOTORWAY_merged=mergefiles(*frame_1)\n",
    "D1_DROWSY_MOTORWAY_merged=mergefiles(*frame_2)\n",
    "D2_NORMAL_MOTORWAY_merged=mergefiles(*frame_3)\n",
    "D3_NORMAL_MOTORWAY_merged=mergefiles(*frame_4)\n",
    "D3_AGGRESSIVE_MOTORWAY_merged=mergefiles(*frame_5)\n",
    "D3_DROWSY_MOTORWAY_merged=mergefiles(*frame_6)\n",
    "D4_NORMAL_MOTORWAY_merged=mergefiles(*frame_7)\n",
    "D4_AGGRESSIVE_MOTORWAY_merged=mergefiles(*frame_8)\n",
    "D4_DROWSY_MOTORWAY_merged=mergefiles(*frame_9)\n",
    "D5_NORMAL_MOTORWAY_merged=mergefiles(*frame_10)\n",
    "D5_AGGRESSIVE_MOTORWAY_merged=mergefiles(*frame_11)\n",
    "D6_NORMAL_MOTORWAY_merged=mergefiles(*frame_12)\n",
    "D6_AGGRESSIVE_MOTORWAY_merged=mergefiles(*frame_13)"
   ]
  },
  {
   "cell_type": "markdown",
   "id": "e57cf9e0",
   "metadata": {},
   "source": [
    "### Target Variable Assignment"
   ]
  },
  {
   "cell_type": "code",
   "execution_count": 46,
   "id": "d73180d2",
   "metadata": {},
   "outputs": [],
   "source": [
    "def Target_alloc(datF):\n",
    "    datF['A_z']=datF['A_z']*9.8\n",
    "    M1=datF['A_z'][datF['A_z']>0]\n",
    "    M2=datF['A_z'][datF['A_z']<0]\n",
    "    Accel_med=M1.median()\n",
    "    Break_med=M2.median() \n",
    "    datF['Target']=0\n",
    "    datF.loc[(datF['Lane_Change'] == -1) | (datF['Lane_Change'] == -2), 'Target'] =3 #Left\n",
    "    datF.loc[(datF['Lane_Change'] == 1) | (datF['Lane_Change'] == 2), 'Target'] =4 #Right\n",
    "    datF.loc[(datF['Target']==0) & (datF['A_z']>Accel_med), 'Target'] =1 #Acc\n",
    "    datF.loc[(datF['Target']==0) & (datF['A_z']<Break_med), 'Target'] =2 #Brk"
   ]
  },
  {
   "cell_type": "code",
   "execution_count": 47,
   "id": "c2d38855",
   "metadata": {},
   "outputs": [],
   "source": [
    "Target_alloc(D1_NORMAL_MOTORWAY_merged)\n",
    "Target_alloc(D1_DROWSY_MOTORWAY_merged)\n",
    "Target_alloc(D2_NORMAL_MOTORWAY_merged)\n",
    "Target_alloc(D3_NORMAL_MOTORWAY_merged)\n",
    "Target_alloc(D3_AGGRESSIVE_MOTORWAY_merged)\n",
    "Target_alloc(D3_DROWSY_MOTORWAY_merged)\n",
    "Target_alloc(D4_NORMAL_MOTORWAY_merged)\n",
    "Target_alloc(D4_AGGRESSIVE_MOTORWAY_merged)\n",
    "Target_alloc(D4_DROWSY_MOTORWAY_merged)\n",
    "Target_alloc(D5_NORMAL_MOTORWAY_merged)\n",
    "Target_alloc(D5_AGGRESSIVE_MOTORWAY_merged)\n",
    "Target_alloc(D6_NORMAL_MOTORWAY_merged)\n",
    "Target_alloc(D6_AGGRESSIVE_MOTORWAY_merged)"
   ]
  },
  {
   "cell_type": "code",
   "execution_count": 78,
   "id": "2671f004",
   "metadata": {},
   "outputs": [
    {
     "name": "stdout",
     "output_type": "stream",
     "text": [
      "<class 'pandas.core.frame.DataFrame'>\n",
      "Int64Index: 916 entries, 0 to 915\n",
      "Data columns (total 13 columns):\n",
      " #   Column       Non-Null Count  Dtype  \n",
      "---  ------       --------------  -----  \n",
      " 0   Timestamp    916 non-null    int64  \n",
      " 1   A_x          916 non-null    float64\n",
      " 2   A_y          916 non-null    float64\n",
      " 3   A_z          916 non-null    float64\n",
      " 4   Speed        915 non-null    float64\n",
      " 5   Lane_Change  26 non-null     float64\n",
      " 6   No_Of_Veh    914 non-null    float64\n",
      " 7   Dist_Veh     914 non-null    float64\n",
      " 8   GPS          914 non-null    float64\n",
      " 9   X_pos        916 non-null    float64\n",
      " 10  Phi_angle    916 non-null    float64\n",
      " 11  Road_width   916 non-null    float64\n",
      " 12  Target       916 non-null    int64  \n",
      "dtypes: float64(11), int64(2)\n",
      "memory usage: 100.2 KB\n"
     ]
    }
   ],
   "source": [
    "D6_AGGRESSIVE_MOTORWAY_merged.info()"
   ]
  },
  {
   "cell_type": "code",
   "execution_count": 48,
   "id": "8965c181",
   "metadata": {},
   "outputs": [
    {
     "name": "stdout",
     "output_type": "stream",
     "text": [
      "<class 'pandas.core.frame.DataFrame'>\n",
      "Int64Index: 12197 entries, 0 to 1029\n",
      "Data columns (total 13 columns):\n",
      " #   Column       Non-Null Count  Dtype  \n",
      "---  ------       --------------  -----  \n",
      " 0   Timestamp    12197 non-null  int64  \n",
      " 1   A_x          12197 non-null  float64\n",
      " 2   A_y          12197 non-null  float64\n",
      " 3   A_z          12197 non-null  float64\n",
      " 4   Speed        11725 non-null  float64\n",
      " 5   Lane_Change  289 non-null    float64\n",
      " 6   No_Of_Veh    12000 non-null  float64\n",
      " 7   Dist_Veh     12000 non-null  float64\n",
      " 8   GPS          12000 non-null  float64\n",
      " 9   X_pos        12102 non-null  float64\n",
      " 10  Phi_angle    12102 non-null  float64\n",
      " 11  Road_width   12102 non-null  float64\n",
      " 12  Target       12197 non-null  int64  \n",
      "dtypes: float64(11), int64(2)\n",
      "memory usage: 1.3 MB\n"
     ]
    }
   ],
   "source": [
    "df= pd.concat([D1_NORMAL_MOTORWAY_merged, D1_DROWSY_MOTORWAY_merged, D2_NORMAL_MOTORWAY_merged,\n",
    "              D3_NORMAL_MOTORWAY_merged, D3_AGGRESSIVE_MOTORWAY_merged, D3_DROWSY_MOTORWAY_merged, D4_NORMAL_MOTORWAY_merged,\n",
    "              D4_AGGRESSIVE_MOTORWAY_merged, D4_DROWSY_MOTORWAY_merged, D5_NORMAL_MOTORWAY_merged, D5_AGGRESSIVE_MOTORWAY_merged,\n",
    "              D6_AGGRESSIVE_MOTORWAY_merged, D6_NORMAL_MOTORWAY_merged])\n",
    "\n",
    "df.info()"
   ]
  },
  {
   "cell_type": "markdown",
   "id": "48b9015f",
   "metadata": {},
   "source": [
    "#### Replace NAN"
   ]
  },
  {
   "cell_type": "code",
   "execution_count": 49,
   "id": "3c720f50",
   "metadata": {},
   "outputs": [],
   "source": [
    "df['Speed']=df['Speed'].fillna(0)\n",
    "df['GPS']=df['GPS'].fillna(0)\n",
    "df['Lane_Change']=df['Lane_Change'].fillna(0) \n",
    "df['Dist_Veh']=df['Dist_Veh'].fillna(999)\n",
    "df['No_Of_Veh']=df['No_Of_Veh'].fillna(0.000000)\n",
    "df['Road_width']=df['Road_width'].fillna(-9.0)\n",
    "df['Phi_angle']=df['Phi_angle'].fillna(-9.0)\n",
    "df['X_pos']=df['X_pos'].fillna(-9.0)"
   ]
  },
  {
   "cell_type": "code",
   "execution_count": 81,
   "id": "2838f885",
   "metadata": {},
   "outputs": [],
   "source": [
    "df.drop_duplicates(inplace=True)"
   ]
  },
  {
   "cell_type": "code",
   "execution_count": 82,
   "id": "c798e2ae",
   "metadata": {
    "scrolled": false
   },
   "outputs": [
    {
     "data": {
      "text/html": [
       "<div>\n",
       "<style scoped>\n",
       "    .dataframe tbody tr th:only-of-type {\n",
       "        vertical-align: middle;\n",
       "    }\n",
       "\n",
       "    .dataframe tbody tr th {\n",
       "        vertical-align: top;\n",
       "    }\n",
       "\n",
       "    .dataframe thead th {\n",
       "        text-align: right;\n",
       "    }\n",
       "</style>\n",
       "<table border=\"1\" class=\"dataframe\">\n",
       "  <thead>\n",
       "    <tr style=\"text-align: right;\">\n",
       "      <th></th>\n",
       "      <th>Timestamp</th>\n",
       "      <th>A_x</th>\n",
       "      <th>A_y</th>\n",
       "      <th>A_z</th>\n",
       "      <th>Speed</th>\n",
       "      <th>Lane_Change</th>\n",
       "      <th>No_Of_Veh</th>\n",
       "      <th>Dist_Veh</th>\n",
       "      <th>GPS</th>\n",
       "      <th>X_pos</th>\n",
       "      <th>Phi_angle</th>\n",
       "      <th>Road_width</th>\n",
       "      <th>Target</th>\n",
       "    </tr>\n",
       "  </thead>\n",
       "  <tbody>\n",
       "    <tr>\n",
       "      <th>count</th>\n",
       "      <td>12197.000000</td>\n",
       "      <td>12197.000000</td>\n",
       "      <td>12197.000000</td>\n",
       "      <td>12197.000000</td>\n",
       "      <td>12197.000000</td>\n",
       "      <td>12197.000000</td>\n",
       "      <td>12197.000000</td>\n",
       "      <td>12197.000000</td>\n",
       "      <td>12197.000000</td>\n",
       "      <td>12197.000000</td>\n",
       "      <td>12197.000000</td>\n",
       "      <td>12197.000000</td>\n",
       "      <td>12197.000000</td>\n",
       "    </tr>\n",
       "    <tr>\n",
       "      <th>mean</th>\n",
       "      <td>475.545872</td>\n",
       "      <td>-0.012321</td>\n",
       "      <td>-0.007682</td>\n",
       "      <td>-0.048280</td>\n",
       "      <td>94.933332</td>\n",
       "      <td>0.004099</td>\n",
       "      <td>1.568500</td>\n",
       "      <td>425.399759</td>\n",
       "      <td>97.502559</td>\n",
       "      <td>-0.035250</td>\n",
       "      <td>-0.087558</td>\n",
       "      <td>3.010514</td>\n",
       "      <td>0.843732</td>\n",
       "    </tr>\n",
       "    <tr>\n",
       "      <th>std</th>\n",
       "      <td>275.241277</td>\n",
       "      <td>0.014412</td>\n",
       "      <td>0.058748</td>\n",
       "      <td>0.281044</td>\n",
       "      <td>25.977341</td>\n",
       "      <td>0.175536</td>\n",
       "      <td>1.149815</td>\n",
       "      <td>473.244906</td>\n",
       "      <td>21.121127</td>\n",
       "      <td>1.195279</td>\n",
       "      <td>1.128828</td>\n",
       "      <td>1.578164</td>\n",
       "      <td>0.949018</td>\n",
       "    </tr>\n",
       "    <tr>\n",
       "      <th>min</th>\n",
       "      <td>0.000000</td>\n",
       "      <td>-0.123800</td>\n",
       "      <td>-0.536400</td>\n",
       "      <td>-3.404520</td>\n",
       "      <td>0.000000</td>\n",
       "      <td>-2.000000</td>\n",
       "      <td>0.000000</td>\n",
       "      <td>1.220000</td>\n",
       "      <td>0.000000</td>\n",
       "      <td>-9.000000</td>\n",
       "      <td>-9.000000</td>\n",
       "      <td>-9.000000</td>\n",
       "      <td>0.000000</td>\n",
       "    </tr>\n",
       "    <tr>\n",
       "      <th>25%</th>\n",
       "      <td>239.000000</td>\n",
       "      <td>-0.017700</td>\n",
       "      <td>-0.011700</td>\n",
       "      <td>-0.130340</td>\n",
       "      <td>87.500000</td>\n",
       "      <td>0.000000</td>\n",
       "      <td>1.000000</td>\n",
       "      <td>24.740000</td>\n",
       "      <td>88.600000</td>\n",
       "      <td>-0.141000</td>\n",
       "      <td>0.010000</td>\n",
       "      <td>2.971000</td>\n",
       "      <td>0.000000</td>\n",
       "    </tr>\n",
       "    <tr>\n",
       "      <th>50%</th>\n",
       "      <td>473.000000</td>\n",
       "      <td>-0.010800</td>\n",
       "      <td>-0.000222</td>\n",
       "      <td>-0.020580</td>\n",
       "      <td>98.400000</td>\n",
       "      <td>0.000000</td>\n",
       "      <td>1.000000</td>\n",
       "      <td>55.240000</td>\n",
       "      <td>98.900000</td>\n",
       "      <td>0.020000</td>\n",
       "      <td>0.049000</td>\n",
       "      <td>3.175000</td>\n",
       "      <td>1.000000</td>\n",
       "    </tr>\n",
       "    <tr>\n",
       "      <th>75%</th>\n",
       "      <td>708.000000</td>\n",
       "      <td>-0.004600</td>\n",
       "      <td>0.010700</td>\n",
       "      <td>0.077420</td>\n",
       "      <td>110.700000</td>\n",
       "      <td>0.000000</td>\n",
       "      <td>2.000000</td>\n",
       "      <td>999.000000</td>\n",
       "      <td>111.000000</td>\n",
       "      <td>0.283000</td>\n",
       "      <td>0.092000</td>\n",
       "      <td>3.355000</td>\n",
       "      <td>2.000000</td>\n",
       "    </tr>\n",
       "    <tr>\n",
       "      <th>max</th>\n",
       "      <td>1032.000000</td>\n",
       "      <td>0.084000</td>\n",
       "      <td>0.329500</td>\n",
       "      <td>1.251460</td>\n",
       "      <td>147.100000</td>\n",
       "      <td>2.000000</td>\n",
       "      <td>7.000000</td>\n",
       "      <td>999.000000</td>\n",
       "      <td>147.066667</td>\n",
       "      <td>2.758000</td>\n",
       "      <td>0.517000</td>\n",
       "      <td>8.120000</td>\n",
       "      <td>4.000000</td>\n",
       "    </tr>\n",
       "  </tbody>\n",
       "</table>\n",
       "</div>"
      ],
      "text/plain": [
       "          Timestamp           A_x           A_y           A_z         Speed  \\\n",
       "count  12197.000000  12197.000000  12197.000000  12197.000000  12197.000000   \n",
       "mean     475.545872     -0.012321     -0.007682     -0.048280     94.933332   \n",
       "std      275.241277      0.014412      0.058748      0.281044     25.977341   \n",
       "min        0.000000     -0.123800     -0.536400     -3.404520      0.000000   \n",
       "25%      239.000000     -0.017700     -0.011700     -0.130340     87.500000   \n",
       "50%      473.000000     -0.010800     -0.000222     -0.020580     98.400000   \n",
       "75%      708.000000     -0.004600      0.010700      0.077420    110.700000   \n",
       "max     1032.000000      0.084000      0.329500      1.251460    147.100000   \n",
       "\n",
       "        Lane_Change     No_Of_Veh      Dist_Veh           GPS         X_pos  \\\n",
       "count  12197.000000  12197.000000  12197.000000  12197.000000  12197.000000   \n",
       "mean       0.004099      1.568500    425.399759     97.502559     -0.035250   \n",
       "std        0.175536      1.149815    473.244906     21.121127      1.195279   \n",
       "min       -2.000000      0.000000      1.220000      0.000000     -9.000000   \n",
       "25%        0.000000      1.000000     24.740000     88.600000     -0.141000   \n",
       "50%        0.000000      1.000000     55.240000     98.900000      0.020000   \n",
       "75%        0.000000      2.000000    999.000000    111.000000      0.283000   \n",
       "max        2.000000      7.000000    999.000000    147.066667      2.758000   \n",
       "\n",
       "          Phi_angle    Road_width        Target  \n",
       "count  12197.000000  12197.000000  12197.000000  \n",
       "mean      -0.087558      3.010514      0.843732  \n",
       "std        1.128828      1.578164      0.949018  \n",
       "min       -9.000000     -9.000000      0.000000  \n",
       "25%        0.010000      2.971000      0.000000  \n",
       "50%        0.049000      3.175000      1.000000  \n",
       "75%        0.092000      3.355000      2.000000  \n",
       "max        0.517000      8.120000      4.000000  "
      ]
     },
     "execution_count": 82,
     "metadata": {},
     "output_type": "execute_result"
    }
   ],
   "source": [
    "df.describe()"
   ]
  },
  {
   "cell_type": "markdown",
   "id": "1ee7acd3",
   "metadata": {},
   "source": [
    "## Data Visualization"
   ]
  },
  {
   "cell_type": "code",
   "execution_count": null,
   "id": "c4370c8e",
   "metadata": {
    "scrolled": false
   },
   "outputs": [],
   "source": [
    "#Raw Acceleration\n",
    "#plt.figure(figsize=(15,5)) \n",
    "#plt.plot(df['Timestamp'],df['A_z'])\n",
    "#plt.show()"
   ]
  },
  {
   "cell_type": "code",
   "execution_count": 50,
   "id": "d3537355",
   "metadata": {
    "scrolled": true
   },
   "outputs": [
    {
     "data": {
      "image/png": "[encoded data removed]",
      "text/plain": [
       "<Figure size 1080x360 with 1 Axes>"
      ]
     },
     "metadata": {
      "needs_background": "light"
     },
     "output_type": "display_data"
    }
   ],
   "source": [
    "\n",
    "plt.figure(figsize=(15,5)) \n",
    "plt.plot(df['Timestamp'],df['Speed'])\n",
    "plt.plot(df['Timestamp'],df['GPS'])\n",
    "plt.show()"
   ]
  },
  {
   "cell_type": "code",
   "execution_count": null,
   "id": "d29145ef",
   "metadata": {},
   "outputs": [],
   "source": [
    "\n",
    "plt.figure(figsize=(15,5)) \n",
    "plt.plot(df['Timestamp'],df['GPS'])\n",
    "plt.show()"
   ]
  },
  {
   "cell_type": "markdown",
   "id": "01e6ebd2",
   "metadata": {},
   "source": [
    "Eliminating Rows with no significance"
   ]
  },
  {
   "cell_type": "code",
   "execution_count": null,
   "id": "daf51369",
   "metadata": {},
   "outputs": [],
   "source": [
    "df.info()"
   ]
  },
  {
   "cell_type": "code",
   "execution_count": 51,
   "id": "2d077556",
   "metadata": {
    "scrolled": true
   },
   "outputs": [],
   "source": [
    "df=df[(df['X_pos']!=-9.0)|(df['Phi_angle']!=-9.0)|(df['Road_width']!=-9.0)]"
   ]
  },
  {
   "cell_type": "code",
   "execution_count": 85,
   "id": "8f558a1f",
   "metadata": {},
   "outputs": [
    {
     "name": "stdout",
     "output_type": "stream",
     "text": [
      "<class 'pandas.core.frame.DataFrame'>\n",
      "Int64Index: 12005 entries, 12 to 1025\n",
      "Data columns (total 13 columns):\n",
      " #   Column       Non-Null Count  Dtype  \n",
      "---  ------       --------------  -----  \n",
      " 0   Timestamp    12005 non-null  int64  \n",
      " 1   A_x          12005 non-null  float64\n",
      " 2   A_y          12005 non-null  float64\n",
      " 3   A_z          12005 non-null  float64\n",
      " 4   Speed        12005 non-null  float64\n",
      " 5   Lane_Change  12005 non-null  float64\n",
      " 6   No_Of_Veh    12005 non-null  float64\n",
      " 7   Dist_Veh     12005 non-null  float64\n",
      " 8   GPS          12005 non-null  float64\n",
      " 9   X_pos        12005 non-null  float64\n",
      " 10  Phi_angle    12005 non-null  float64\n",
      " 11  Road_width   12005 non-null  float64\n",
      " 12  Target       12005 non-null  int64  \n",
      "dtypes: float64(11), int64(2)\n",
      "memory usage: 1.3 MB\n"
     ]
    }
   ],
   "source": [
    "df.info()"
   ]
  },
  {
   "cell_type": "markdown",
   "id": "ea78ff97",
   "metadata": {},
   "source": [
    "Add Vehicle Flag"
   ]
  },
  {
   "cell_type": "code",
   "execution_count": 52,
   "id": "9e5305b6",
   "metadata": {},
   "outputs": [
    {
     "data": {
      "text/plain": [
       "1.0    7262\n",
       "0.0    4743\n",
       "Name: Vehicle_Flag, dtype: int64"
      ]
     },
     "execution_count": 52,
     "metadata": {},
     "output_type": "execute_result"
    }
   ],
   "source": [
    "df.loc[df['Dist_Veh']!=999,'Vehicle_Flag']=1\n",
    "df['Vehicle_Flag']=df['Vehicle_Flag'].fillna(0)\n",
    "df['Vehicle_Flag'].value_counts()"
   ]
  },
  {
   "cell_type": "code",
   "execution_count": 87,
   "id": "43a874ce",
   "metadata": {},
   "outputs": [
    {
     "data": {
      "text/plain": [
       "Timestamp       7262\n",
       "A_x             7262\n",
       "A_y             7262\n",
       "A_z             7262\n",
       "Speed           7262\n",
       "Lane_Change     7262\n",
       "No_Of_Veh       7262\n",
       "Dist_Veh        7262\n",
       "GPS             7262\n",
       "X_pos           7262\n",
       "Phi_angle       7262\n",
       "Road_width      7262\n",
       "Target          7262\n",
       "Vehicle_Flag    7262\n",
       "dtype: int64"
      ]
     },
     "execution_count": 87,
     "metadata": {},
     "output_type": "execute_result"
    }
   ],
   "source": [
    "df[df['Dist_Veh']!=999].count()"
   ]
  },
  {
   "cell_type": "code",
   "execution_count": 88,
   "id": "78bdbaa5",
   "metadata": {},
   "outputs": [
    {
     "data": {
      "text/html": [
       "<div>\n",
       "<style scoped>\n",
       "    .dataframe tbody tr th:only-of-type {\n",
       "        vertical-align: middle;\n",
       "    }\n",
       "\n",
       "    .dataframe tbody tr th {\n",
       "        vertical-align: top;\n",
       "    }\n",
       "\n",
       "    .dataframe thead th {\n",
       "        text-align: right;\n",
       "    }\n",
       "</style>\n",
       "<table border=\"1\" class=\"dataframe\">\n",
       "  <thead>\n",
       "    <tr style=\"text-align: right;\">\n",
       "      <th></th>\n",
       "      <th>Timestamp</th>\n",
       "      <th>A_x</th>\n",
       "      <th>A_y</th>\n",
       "      <th>A_z</th>\n",
       "      <th>Speed</th>\n",
       "      <th>Lane_Change</th>\n",
       "      <th>No_Of_Veh</th>\n",
       "      <th>Dist_Veh</th>\n",
       "      <th>GPS</th>\n",
       "      <th>X_pos</th>\n",
       "      <th>Phi_angle</th>\n",
       "      <th>Road_width</th>\n",
       "      <th>Target</th>\n",
       "      <th>Vehicle_Flag</th>\n",
       "    </tr>\n",
       "  </thead>\n",
       "  <tbody>\n",
       "    <tr>\n",
       "      <th>12</th>\n",
       "      <td>12</td>\n",
       "      <td>-0.0161</td>\n",
       "      <td>-0.0209</td>\n",
       "      <td>-0.08330</td>\n",
       "      <td>78.8</td>\n",
       "      <td>0.0</td>\n",
       "      <td>0.0</td>\n",
       "      <td>999.0</td>\n",
       "      <td>77.800000</td>\n",
       "      <td>0.000</td>\n",
       "      <td>-0.000</td>\n",
       "      <td>3.500</td>\n",
       "      <td>2</td>\n",
       "      <td>0.0</td>\n",
       "    </tr>\n",
       "    <tr>\n",
       "      <th>13</th>\n",
       "      <td>13</td>\n",
       "      <td>-0.0138</td>\n",
       "      <td>-0.0032</td>\n",
       "      <td>-0.32046</td>\n",
       "      <td>82.7</td>\n",
       "      <td>0.0</td>\n",
       "      <td>0.0</td>\n",
       "      <td>999.0</td>\n",
       "      <td>79.287500</td>\n",
       "      <td>0.000</td>\n",
       "      <td>-0.000</td>\n",
       "      <td>3.500</td>\n",
       "      <td>2</td>\n",
       "      <td>0.0</td>\n",
       "    </tr>\n",
       "    <tr>\n",
       "      <th>14</th>\n",
       "      <td>14</td>\n",
       "      <td>-0.0044</td>\n",
       "      <td>-0.0149</td>\n",
       "      <td>-1.05350</td>\n",
       "      <td>85.5</td>\n",
       "      <td>0.0</td>\n",
       "      <td>0.0</td>\n",
       "      <td>999.0</td>\n",
       "      <td>83.050000</td>\n",
       "      <td>0.300</td>\n",
       "      <td>0.047</td>\n",
       "      <td>3.500</td>\n",
       "      <td>2</td>\n",
       "      <td>0.0</td>\n",
       "    </tr>\n",
       "    <tr>\n",
       "      <th>15</th>\n",
       "      <td>15</td>\n",
       "      <td>-0.0015</td>\n",
       "      <td>-0.0042</td>\n",
       "      <td>-0.59388</td>\n",
       "      <td>85.7</td>\n",
       "      <td>0.0</td>\n",
       "      <td>0.0</td>\n",
       "      <td>999.0</td>\n",
       "      <td>85.540000</td>\n",
       "      <td>0.178</td>\n",
       "      <td>-0.008</td>\n",
       "      <td>3.084</td>\n",
       "      <td>2</td>\n",
       "      <td>0.0</td>\n",
       "    </tr>\n",
       "    <tr>\n",
       "      <th>16</th>\n",
       "      <td>16</td>\n",
       "      <td>0.0147</td>\n",
       "      <td>-0.0144</td>\n",
       "      <td>-0.19306</td>\n",
       "      <td>85.5</td>\n",
       "      <td>0.0</td>\n",
       "      <td>0.0</td>\n",
       "      <td>999.0</td>\n",
       "      <td>85.655556</td>\n",
       "      <td>-0.191</td>\n",
       "      <td>0.015</td>\n",
       "      <td>3.280</td>\n",
       "      <td>2</td>\n",
       "      <td>0.0</td>\n",
       "    </tr>\n",
       "  </tbody>\n",
       "</table>\n",
       "</div>"
      ],
      "text/plain": [
       "    Timestamp     A_x     A_y      A_z  Speed  Lane_Change  No_Of_Veh  \\\n",
       "12         12 -0.0161 -0.0209 -0.08330   78.8          0.0        0.0   \n",
       "13         13 -0.0138 -0.0032 -0.32046   82.7          0.0        0.0   \n",
       "14         14 -0.0044 -0.0149 -1.05350   85.5          0.0        0.0   \n",
       "15         15 -0.0015 -0.0042 -0.59388   85.7          0.0        0.0   \n",
       "16         16  0.0147 -0.0144 -0.19306   85.5          0.0        0.0   \n",
       "\n",
       "    Dist_Veh        GPS  X_pos  Phi_angle  Road_width  Target  Vehicle_Flag  \n",
       "12     999.0  77.800000  0.000     -0.000       3.500       2           0.0  \n",
       "13     999.0  79.287500  0.000     -0.000       3.500       2           0.0  \n",
       "14     999.0  83.050000  0.300      0.047       3.500       2           0.0  \n",
       "15     999.0  85.540000  0.178     -0.008       3.084       2           0.0  \n",
       "16     999.0  85.655556 -0.191      0.015       3.280       2           0.0  "
      ]
     },
     "execution_count": 88,
     "metadata": {},
     "output_type": "execute_result"
    }
   ],
   "source": [
    "df.head()"
   ]
  },
  {
   "cell_type": "code",
   "execution_count": 89,
   "id": "b3ad05c6",
   "metadata": {},
   "outputs": [
    {
     "data": {
      "text/html": [
       "<div>\n",
       "<style scoped>\n",
       "    .dataframe tbody tr th:only-of-type {\n",
       "        vertical-align: middle;\n",
       "    }\n",
       "\n",
       "    .dataframe tbody tr th {\n",
       "        vertical-align: top;\n",
       "    }\n",
       "\n",
       "    .dataframe thead th {\n",
       "        text-align: right;\n",
       "    }\n",
       "</style>\n",
       "<table border=\"1\" class=\"dataframe\">\n",
       "  <thead>\n",
       "    <tr style=\"text-align: right;\">\n",
       "      <th></th>\n",
       "      <th>Timestamp</th>\n",
       "      <th>A_x</th>\n",
       "      <th>A_y</th>\n",
       "      <th>A_z</th>\n",
       "      <th>Speed</th>\n",
       "      <th>Lane_Change</th>\n",
       "      <th>No_Of_Veh</th>\n",
       "      <th>Dist_Veh</th>\n",
       "      <th>GPS</th>\n",
       "      <th>X_pos</th>\n",
       "      <th>Phi_angle</th>\n",
       "      <th>Road_width</th>\n",
       "      <th>Target</th>\n",
       "      <th>Vehicle_Flag</th>\n",
       "    </tr>\n",
       "  </thead>\n",
       "  <tbody>\n",
       "    <tr>\n",
       "      <th>count</th>\n",
       "      <td>12005.000000</td>\n",
       "      <td>12005.000000</td>\n",
       "      <td>12005.000000</td>\n",
       "      <td>12005.000000</td>\n",
       "      <td>12005.000000</td>\n",
       "      <td>12005.000000</td>\n",
       "      <td>12005.000000</td>\n",
       "      <td>12005.000000</td>\n",
       "      <td>12005.000000</td>\n",
       "      <td>12005.000000</td>\n",
       "      <td>12005.000000</td>\n",
       "      <td>12005.000000</td>\n",
       "      <td>12005.000000</td>\n",
       "      <td>12005.000000</td>\n",
       "    </tr>\n",
       "    <tr>\n",
       "      <th>mean</th>\n",
       "      <td>478.544107</td>\n",
       "      <td>-0.012254</td>\n",
       "      <td>-0.007511</td>\n",
       "      <td>-0.046579</td>\n",
       "      <td>96.146626</td>\n",
       "      <td>0.004082</td>\n",
       "      <td>1.593336</td>\n",
       "      <td>416.306963</td>\n",
       "      <td>99.041184</td>\n",
       "      <td>0.108126</td>\n",
       "      <td>0.054982</td>\n",
       "      <td>3.202603</td>\n",
       "      <td>0.837818</td>\n",
       "      <td>0.604915</td>\n",
       "    </tr>\n",
       "    <tr>\n",
       "      <th>std</th>\n",
       "      <td>272.693156</td>\n",
       "      <td>0.014253</td>\n",
       "      <td>0.057793</td>\n",
       "      <td>0.277471</td>\n",
       "      <td>24.178140</td>\n",
       "      <td>0.176700</td>\n",
       "      <td>1.141762</td>\n",
       "      <td>471.393554</td>\n",
       "      <td>17.362036</td>\n",
       "      <td>0.381505</td>\n",
       "      <td>0.061898</td>\n",
       "      <td>0.431586</td>\n",
       "      <td>0.949633</td>\n",
       "      <td>0.488889</td>\n",
       "    </tr>\n",
       "    <tr>\n",
       "      <th>min</th>\n",
       "      <td>6.000000</td>\n",
       "      <td>-0.123800</td>\n",
       "      <td>-0.536400</td>\n",
       "      <td>-3.404520</td>\n",
       "      <td>0.000000</td>\n",
       "      <td>-2.000000</td>\n",
       "      <td>0.000000</td>\n",
       "      <td>1.220000</td>\n",
       "      <td>0.000000</td>\n",
       "      <td>-1.071000</td>\n",
       "      <td>-0.277000</td>\n",
       "      <td>1.834000</td>\n",
       "      <td>0.000000</td>\n",
       "      <td>0.000000</td>\n",
       "    </tr>\n",
       "    <tr>\n",
       "      <th>25%</th>\n",
       "      <td>243.000000</td>\n",
       "      <td>-0.017667</td>\n",
       "      <td>-0.011600</td>\n",
       "      <td>-0.128380</td>\n",
       "      <td>88.100000</td>\n",
       "      <td>0.000000</td>\n",
       "      <td>1.000000</td>\n",
       "      <td>24.400000</td>\n",
       "      <td>89.300000</td>\n",
       "      <td>-0.130000</td>\n",
       "      <td>0.012000</td>\n",
       "      <td>2.988000</td>\n",
       "      <td>0.000000</td>\n",
       "      <td>0.000000</td>\n",
       "    </tr>\n",
       "    <tr>\n",
       "      <th>50%</th>\n",
       "      <td>475.000000</td>\n",
       "      <td>-0.010800</td>\n",
       "      <td>-0.000300</td>\n",
       "      <td>-0.020580</td>\n",
       "      <td>98.700000</td>\n",
       "      <td>0.000000</td>\n",
       "      <td>1.000000</td>\n",
       "      <td>53.740000</td>\n",
       "      <td>99.266667</td>\n",
       "      <td>0.030000</td>\n",
       "      <td>0.051000</td>\n",
       "      <td>3.181000</td>\n",
       "      <td>1.000000</td>\n",
       "      <td>1.000000</td>\n",
       "    </tr>\n",
       "    <tr>\n",
       "      <th>75%</th>\n",
       "      <td>709.000000</td>\n",
       "      <td>-0.004600</td>\n",
       "      <td>0.010700</td>\n",
       "      <td>0.077420</td>\n",
       "      <td>110.900000</td>\n",
       "      <td>0.000000</td>\n",
       "      <td>2.000000</td>\n",
       "      <td>999.000000</td>\n",
       "      <td>111.200000</td>\n",
       "      <td>0.293000</td>\n",
       "      <td>0.092000</td>\n",
       "      <td>3.360000</td>\n",
       "      <td>2.000000</td>\n",
       "      <td>1.000000</td>\n",
       "    </tr>\n",
       "    <tr>\n",
       "      <th>max</th>\n",
       "      <td>1031.000000</td>\n",
       "      <td>0.084000</td>\n",
       "      <td>0.312200</td>\n",
       "      <td>1.251460</td>\n",
       "      <td>147.100000</td>\n",
       "      <td>2.000000</td>\n",
       "      <td>7.000000</td>\n",
       "      <td>999.000000</td>\n",
       "      <td>147.066667</td>\n",
       "      <td>2.758000</td>\n",
       "      <td>0.517000</td>\n",
       "      <td>8.120000</td>\n",
       "      <td>4.000000</td>\n",
       "      <td>1.000000</td>\n",
       "    </tr>\n",
       "  </tbody>\n",
       "</table>\n",
       "</div>"
      ],
      "text/plain": [
       "          Timestamp           A_x           A_y           A_z         Speed  \\\n",
       "count  12005.000000  12005.000000  12005.000000  12005.000000  12005.000000   \n",
       "mean     478.544107     -0.012254     -0.007511     -0.046579     96.146626   \n",
       "std      272.693156      0.014253      0.057793      0.277471     24.178140   \n",
       "min        6.000000     -0.123800     -0.536400     -3.404520      0.000000   \n",
       "25%      243.000000     -0.017667     -0.011600     -0.128380     88.100000   \n",
       "50%      475.000000     -0.010800     -0.000300     -0.020580     98.700000   \n",
       "75%      709.000000     -0.004600      0.010700      0.077420    110.900000   \n",
       "max     1031.000000      0.084000      0.312200      1.251460    147.100000   \n",
       "\n",
       "        Lane_Change     No_Of_Veh      Dist_Veh           GPS         X_pos  \\\n",
       "count  12005.000000  12005.000000  12005.000000  12005.000000  12005.000000   \n",
       "mean       0.004082      1.593336    416.306963     99.041184      0.108126   \n",
       "std        0.176700      1.141762    471.393554     17.362036      0.381505   \n",
       "min       -2.000000      0.000000      1.220000      0.000000     -1.071000   \n",
       "25%        0.000000      1.000000     24.400000     89.300000     -0.130000   \n",
       "50%        0.000000      1.000000     53.740000     99.266667      0.030000   \n",
       "75%        0.000000      2.000000    999.000000    111.200000      0.293000   \n",
       "max        2.000000      7.000000    999.000000    147.066667      2.758000   \n",
       "\n",
       "          Phi_angle    Road_width        Target  Vehicle_Flag  \n",
       "count  12005.000000  12005.000000  12005.000000  12005.000000  \n",
       "mean       0.054982      3.202603      0.837818      0.604915  \n",
       "std        0.061898      0.431586      0.949633      0.488889  \n",
       "min       -0.277000      1.834000      0.000000      0.000000  \n",
       "25%        0.012000      2.988000      0.000000      0.000000  \n",
       "50%        0.051000      3.181000      1.000000      1.000000  \n",
       "75%        0.092000      3.360000      2.000000      1.000000  \n",
       "max        0.517000      8.120000      4.000000      1.000000  "
      ]
     },
     "execution_count": 89,
     "metadata": {},
     "output_type": "execute_result"
    }
   ],
   "source": [
    "df.describe()"
   ]
  },
  {
   "cell_type": "code",
   "execution_count": 64,
   "id": "9ce4b938",
   "metadata": {},
   "outputs": [],
   "source": [
    "df.drop(df[df['GPS'] == 0].index, inplace = True)"
   ]
  },
  {
   "cell_type": "code",
   "execution_count": 65,
   "id": "bfbd3033",
   "metadata": {},
   "outputs": [
    {
     "data": {
      "text/html": [
       "<div>\n",
       "<style scoped>\n",
       "    .dataframe tbody tr th:only-of-type {\n",
       "        vertical-align: middle;\n",
       "    }\n",
       "\n",
       "    .dataframe tbody tr th {\n",
       "        vertical-align: top;\n",
       "    }\n",
       "\n",
       "    .dataframe thead th {\n",
       "        text-align: right;\n",
       "    }\n",
       "</style>\n",
       "<table border=\"1\" class=\"dataframe\">\n",
       "  <thead>\n",
       "    <tr style=\"text-align: right;\">\n",
       "      <th></th>\n",
       "      <th>Timestamp</th>\n",
       "      <th>A_x</th>\n",
       "      <th>A_y</th>\n",
       "      <th>A_z</th>\n",
       "      <th>Speed</th>\n",
       "      <th>Lane_Change</th>\n",
       "      <th>No_Of_Veh</th>\n",
       "      <th>Dist_Veh</th>\n",
       "      <th>GPS</th>\n",
       "      <th>X_pos</th>\n",
       "      <th>Phi_angle</th>\n",
       "      <th>Road_width</th>\n",
       "      <th>Target</th>\n",
       "      <th>Vehicle_Flag</th>\n",
       "    </tr>\n",
       "  </thead>\n",
       "  <tbody>\n",
       "  </tbody>\n",
       "</table>\n",
       "</div>"
      ],
      "text/plain": [
       "Empty DataFrame\n",
       "Columns: [Timestamp, A_x, A_y, A_z, Speed, Lane_Change, No_Of_Veh, Dist_Veh, GPS, X_pos, Phi_angle, Road_width, Target, Vehicle_Flag]\n",
       "Index: []"
      ]
     },
     "execution_count": 65,
     "metadata": {},
     "output_type": "execute_result"
    }
   ],
   "source": [
    "df[df['GPS'] == 0]"
   ]
  },
  {
   "cell_type": "code",
   "execution_count": 90,
   "id": "ec1c24b9",
   "metadata": {},
   "outputs": [],
   "source": [
    "from sklearn.utils import shuffle\n",
    "from sklearn.model_selection import train_test_split\n"
   ]
  },
  {
   "cell_type": "code",
   "execution_count": 91,
   "id": "8a3624d7",
   "metadata": {},
   "outputs": [],
   "source": [
    "df = shuffle(df)\n",
    "df_train, df_test = train_test_split(df, test_size=0.2)"
   ]
  },
  {
   "cell_type": "code",
   "execution_count": 92,
   "id": "583c3f23",
   "metadata": {},
   "outputs": [],
   "source": [
    "df_train.to_csv(\"Choice_Data_Train.csv\",index=False)\n",
    "df_test.to_csv(\"Choice_Data_Test.csv\",index=False)"
   ]
  },
  {
   "cell_type": "code",
   "execution_count": 8,
   "id": "cd321ac7",
   "metadata": {},
   "outputs": [],
   "source": [
    "dop=pd.read_csv(\"C:/DDS/Semester2/AnalyticsProject/ppt1/AnalyticsProject/output/Base/BaseModel_estimates.csv\")"
   ]
  },
  {
   "cell_type": "code",
   "execution_count": 9,
   "id": "d21ee4b9",
   "metadata": {},
   "outputs": [
    {
     "data": {
      "text/html": [
       "<div>\n",
       "<style scoped>\n",
       "    .dataframe tbody tr th:only-of-type {\n",
       "        vertical-align: middle;\n",
       "    }\n",
       "\n",
       "    .dataframe tbody tr th {\n",
       "        vertical-align: top;\n",
       "    }\n",
       "\n",
       "    .dataframe thead th {\n",
       "        text-align: right;\n",
       "    }\n",
       "</style>\n",
       "<table border=\"1\" class=\"dataframe\">\n",
       "  <thead>\n",
       "    <tr style=\"text-align: right;\">\n",
       "      <th></th>\n",
       "      <th>Name</th>\n",
       "      <th>Val</th>\n",
       "      <th>STD</th>\n",
       "      <th>T-ratio</th>\n",
       "      <th>Rob.std.err.</th>\n",
       "      <th>Rob.t-ratio(0)</th>\n",
       "    </tr>\n",
       "  </thead>\n",
       "  <tbody>\n",
       "    <tr>\n",
       "      <th>0</th>\n",
       "      <td>asc_acc</td>\n",
       "      <td>6.781338</td>\n",
       "      <td>0.943571</td>\n",
       "      <td>7.186885</td>\n",
       "      <td>1.630117</td>\n",
       "      <td>4.160033</td>\n",
       "    </tr>\n",
       "    <tr>\n",
       "      <th>1</th>\n",
       "      <td>asc_brk</td>\n",
       "      <td>8.956248</td>\n",
       "      <td>0.853138</td>\n",
       "      <td>10.498005</td>\n",
       "      <td>2.387834</td>\n",
       "      <td>3.750783</td>\n",
       "    </tr>\n",
       "    <tr>\n",
       "      <th>2</th>\n",
       "      <td>speed_acc</td>\n",
       "      <td>-1.709943</td>\n",
       "      <td>0.206158</td>\n",
       "      <td>-8.294344</td>\n",
       "      <td>0.355757</td>\n",
       "      <td>-4.806499</td>\n",
       "    </tr>\n",
       "    <tr>\n",
       "      <th>3</th>\n",
       "      <td>speed_brk</td>\n",
       "      <td>-2.101052</td>\n",
       "      <td>0.186626</td>\n",
       "      <td>-11.258058</td>\n",
       "      <td>0.520002</td>\n",
       "      <td>-4.040468</td>\n",
       "    </tr>\n",
       "    <tr>\n",
       "      <th>4</th>\n",
       "      <td>nodv_acc</td>\n",
       "      <td>0.136922</td>\n",
       "      <td>0.028158</td>\n",
       "      <td>4.862699</td>\n",
       "      <td>0.036661</td>\n",
       "      <td>3.734807</td>\n",
       "    </tr>\n",
       "    <tr>\n",
       "      <th>5</th>\n",
       "      <td>nodv_brk</td>\n",
       "      <td>0.014091</td>\n",
       "      <td>0.027093</td>\n",
       "      <td>0.520103</td>\n",
       "      <td>0.039607</td>\n",
       "      <td>0.355782</td>\n",
       "    </tr>\n",
       "    <tr>\n",
       "      <th>6</th>\n",
       "      <td>dist_acc</td>\n",
       "      <td>0.007894</td>\n",
       "      <td>0.006240</td>\n",
       "      <td>1.264928</td>\n",
       "      <td>0.005720</td>\n",
       "      <td>1.380004</td>\n",
       "    </tr>\n",
       "    <tr>\n",
       "      <th>7</th>\n",
       "      <td>dist_brk</td>\n",
       "      <td>0.029977</td>\n",
       "      <td>0.005649</td>\n",
       "      <td>5.306216</td>\n",
       "      <td>0.010117</td>\n",
       "      <td>2.962854</td>\n",
       "    </tr>\n",
       "    <tr>\n",
       "      <th>8</th>\n",
       "      <td>time_acc</td>\n",
       "      <td>-0.249710</td>\n",
       "      <td>0.169268</td>\n",
       "      <td>-1.475236</td>\n",
       "      <td>0.137839</td>\n",
       "      <td>-1.811608</td>\n",
       "    </tr>\n",
       "    <tr>\n",
       "      <th>9</th>\n",
       "      <td>time_brk</td>\n",
       "      <td>-0.830999</td>\n",
       "      <td>0.158710</td>\n",
       "      <td>-5.235948</td>\n",
       "      <td>0.289094</td>\n",
       "      <td>-2.874496</td>\n",
       "    </tr>\n",
       "    <tr>\n",
       "      <th>10</th>\n",
       "      <td>asc_llc</td>\n",
       "      <td>-2.546289</td>\n",
       "      <td>4.008396</td>\n",
       "      <td>-0.635239</td>\n",
       "      <td>3.226562</td>\n",
       "      <td>-0.789165</td>\n",
       "    </tr>\n",
       "    <tr>\n",
       "      <th>11</th>\n",
       "      <td>asc_rlc</td>\n",
       "      <td>-12.518772</td>\n",
       "      <td>3.791394</td>\n",
       "      <td>-3.301892</td>\n",
       "      <td>2.665112</td>\n",
       "      <td>-4.697278</td>\n",
       "    </tr>\n",
       "    <tr>\n",
       "      <th>12</th>\n",
       "      <td>speed_llc</td>\n",
       "      <td>-0.381733</td>\n",
       "      <td>0.868441</td>\n",
       "      <td>-0.439562</td>\n",
       "      <td>0.696869</td>\n",
       "      <td>-0.547784</td>\n",
       "    </tr>\n",
       "    <tr>\n",
       "      <th>13</th>\n",
       "      <td>speed_rlc</td>\n",
       "      <td>1.619806</td>\n",
       "      <td>0.811036</td>\n",
       "      <td>1.997206</td>\n",
       "      <td>0.521364</td>\n",
       "      <td>3.106862</td>\n",
       "    </tr>\n",
       "    <tr>\n",
       "      <th>14</th>\n",
       "      <td>nodv_llc</td>\n",
       "      <td>0.336330</td>\n",
       "      <td>0.103164</td>\n",
       "      <td>3.260151</td>\n",
       "      <td>0.075677</td>\n",
       "      <td>4.444255</td>\n",
       "    </tr>\n",
       "    <tr>\n",
       "      <th>15</th>\n",
       "      <td>nodv_rlc</td>\n",
       "      <td>0.015394</td>\n",
       "      <td>0.109164</td>\n",
       "      <td>0.141017</td>\n",
       "      <td>0.087939</td>\n",
       "      <td>0.175054</td>\n",
       "    </tr>\n",
       "    <tr>\n",
       "      <th>16</th>\n",
       "      <td>dist_llc</td>\n",
       "      <td>-0.000300</td>\n",
       "      <td>0.029007</td>\n",
       "      <td>-0.010336</td>\n",
       "      <td>0.020649</td>\n",
       "      <td>-0.014519</td>\n",
       "    </tr>\n",
       "    <tr>\n",
       "      <th>17</th>\n",
       "      <td>dist_rlc</td>\n",
       "      <td>-0.017299</td>\n",
       "      <td>0.027644</td>\n",
       "      <td>-0.625784</td>\n",
       "      <td>0.019685</td>\n",
       "      <td>-0.878800</td>\n",
       "    </tr>\n",
       "    <tr>\n",
       "      <th>18</th>\n",
       "      <td>time_llc</td>\n",
       "      <td>-0.194336</td>\n",
       "      <td>0.797972</td>\n",
       "      <td>-0.243537</td>\n",
       "      <td>0.625526</td>\n",
       "      <td>-0.310675</td>\n",
       "    </tr>\n",
       "    <tr>\n",
       "      <th>19</th>\n",
       "      <td>time_rlc</td>\n",
       "      <td>0.294339</td>\n",
       "      <td>0.764163</td>\n",
       "      <td>0.385178</td>\n",
       "      <td>0.542777</td>\n",
       "      <td>0.542283</td>\n",
       "    </tr>\n",
       "    <tr>\n",
       "      <th>20</th>\n",
       "      <td>pos_acc</td>\n",
       "      <td>-0.152400</td>\n",
       "      <td>0.087168</td>\n",
       "      <td>-1.748352</td>\n",
       "      <td>0.085919</td>\n",
       "      <td>-1.773768</td>\n",
       "    </tr>\n",
       "    <tr>\n",
       "      <th>21</th>\n",
       "      <td>pos_brk</td>\n",
       "      <td>-0.009272</td>\n",
       "      <td>0.079535</td>\n",
       "      <td>-0.116580</td>\n",
       "      <td>0.090057</td>\n",
       "      <td>-0.102958</td>\n",
       "    </tr>\n",
       "    <tr>\n",
       "      <th>22</th>\n",
       "      <td>pos_llc</td>\n",
       "      <td>-0.284334</td>\n",
       "      <td>0.348862</td>\n",
       "      <td>-0.815031</td>\n",
       "      <td>0.312041</td>\n",
       "      <td>-0.911207</td>\n",
       "    </tr>\n",
       "    <tr>\n",
       "      <th>23</th>\n",
       "      <td>pos_rlc</td>\n",
       "      <td>3.453274</td>\n",
       "      <td>0.201819</td>\n",
       "      <td>17.110747</td>\n",
       "      <td>0.702111</td>\n",
       "      <td>4.918414</td>\n",
       "    </tr>\n",
       "  </tbody>\n",
       "</table>\n",
       "</div>"
      ],
      "text/plain": [
       "         Name        Val       STD    T-ratio  Rob.std.err.  Rob.t-ratio(0)\n",
       "0     asc_acc   6.781338  0.943571   7.186885      1.630117        4.160033\n",
       "1     asc_brk   8.956248  0.853138  10.498005      2.387834        3.750783\n",
       "2   speed_acc  -1.709943  0.206158  -8.294344      0.355757       -4.806499\n",
       "3   speed_brk  -2.101052  0.186626 -11.258058      0.520002       -4.040468\n",
       "4    nodv_acc   0.136922  0.028158   4.862699      0.036661        3.734807\n",
       "5    nodv_brk   0.014091  0.027093   0.520103      0.039607        0.355782\n",
       "6    dist_acc   0.007894  0.006240   1.264928      0.005720        1.380004\n",
       "7    dist_brk   0.029977  0.005649   5.306216      0.010117        2.962854\n",
       "8    time_acc  -0.249710  0.169268  -1.475236      0.137839       -1.811608\n",
       "9    time_brk  -0.830999  0.158710  -5.235948      0.289094       -2.874496\n",
       "10    asc_llc  -2.546289  4.008396  -0.635239      3.226562       -0.789165\n",
       "11    asc_rlc -12.518772  3.791394  -3.301892      2.665112       -4.697278\n",
       "12  speed_llc  -0.381733  0.868441  -0.439562      0.696869       -0.547784\n",
       "13  speed_rlc   1.619806  0.811036   1.997206      0.521364        3.106862\n",
       "14   nodv_llc   0.336330  0.103164   3.260151      0.075677        4.444255\n",
       "15   nodv_rlc   0.015394  0.109164   0.141017      0.087939        0.175054\n",
       "16   dist_llc  -0.000300  0.029007  -0.010336      0.020649       -0.014519\n",
       "17   dist_rlc  -0.017299  0.027644  -0.625784      0.019685       -0.878800\n",
       "18   time_llc  -0.194336  0.797972  -0.243537      0.625526       -0.310675\n",
       "19   time_rlc   0.294339  0.764163   0.385178      0.542777        0.542283\n",
       "20    pos_acc  -0.152400  0.087168  -1.748352      0.085919       -1.773768\n",
       "21    pos_brk  -0.009272  0.079535  -0.116580      0.090057       -0.102958\n",
       "22    pos_llc  -0.284334  0.348862  -0.815031      0.312041       -0.911207\n",
       "23    pos_rlc   3.453274  0.201819  17.110747      0.702111        4.918414"
      ]
     },
     "execution_count": 9,
     "metadata": {},
     "output_type": "execute_result"
    }
   ],
   "source": [
    "dop"
   ]
  },
  {
   "cell_type": "code",
   "execution_count": 56,
   "id": "10a4a76c",
   "metadata": {},
   "outputs": [
    {
     "data": {
      "text/plain": [
       "-1.70994327"
      ]
     },
     "execution_count": 56,
     "metadata": {},
     "output_type": "execute_result"
    }
   ],
   "source": [
    "dop['Val'][2]"
   ]
  },
  {
   "cell_type": "code",
   "execution_count": 66,
   "id": "241269e6",
   "metadata": {},
   "outputs": [],
   "source": [
    "V_acc= (df['Dist_Veh']/(df['GPS']*0.28)) * df['Vehicle_Flag']*dop['Val'][8] +  df['Vehicle_Flag']*df['Dist_Veh']*dop['Val'][6] \\\n",
    "+ np.log(df['GPS'])*dop['Val'][2] + df['No_Of_Veh']*dop['Val'][4] + df['X_pos']*dop['Val'][20] + dop['Val'][0]"
   ]
  },
  {
   "cell_type": "markdown",
   "id": "28a7077c",
   "metadata": {},
   "source": [
    "D1-Motor_norm0-1"
   ]
  },
  {
   "cell_type": "code",
   "execution_count": 69,
   "id": "1fff3b04",
   "metadata": {},
   "outputs": [],
   "source": [
    "D1_NORMAL_MOTORWAY_merged.drop(D1_NORMAL_MOTORWAY_merged[D1_NORMAL_MOTORWAY_merged['GPS'] == 0].index, inplace = True)"
   ]
  },
  {
   "cell_type": "code",
   "execution_count": 70,
   "id": "92901342",
   "metadata": {},
   "outputs": [
    {
     "data": {
      "text/plain": [
       "1.0    522\n",
       "0.0    354\n",
       "Name: Vehicle_Flag, dtype: int64"
      ]
     },
     "execution_count": 70,
     "metadata": {},
     "output_type": "execute_result"
    }
   ],
   "source": [
    "D1_NORMAL_MOTORWAY_merged.loc[D1_NORMAL_MOTORWAY_merged['Dist_Veh']!=999,'Vehicle_Flag']=1\n",
    "D1_NORMAL_MOTORWAY_merged['Vehicle_Flag']=D1_NORMAL_MOTORWAY_merged['Vehicle_Flag'].fillna(0)\n",
    "D1_NORMAL_MOTORWAY_merged['Vehicle_Flag'].value_counts()"
   ]
  },
  {
   "cell_type": "code",
   "execution_count": 71,
   "id": "935d04ee",
   "metadata": {},
   "outputs": [],
   "source": [
    "V_acc_11= (D1_NORMAL_MOTORWAY_merged['Dist_Veh']/(D1_NORMAL_MOTORWAY_merged['GPS']*0.28)) * D1_NORMAL_MOTORWAY_merged['Vehicle_Flag']*dop['Val'][8] +  D1_NORMAL_MOTORWAY_merged['Vehicle_Flag']*D1_NORMAL_MOTORWAY_merged['Dist_Veh']*dop['Val'][6] \\\n",
    "+ np.log(D1_NORMAL_MOTORWAY_merged['GPS'])*dop['Val'][2] + D1_NORMAL_MOTORWAY_merged['No_Of_Veh']*dop['Val'][4] + D1_NORMAL_MOTORWAY_merged['X_pos']*dop['Val'][20] + dop['Val'][0]"
   ]
  },
  {
   "cell_type": "markdown",
   "id": "c7ff42df",
   "metadata": {},
   "source": [
    "D4-Motor_aggressive"
   ]
  },
  {
   "cell_type": "code",
   "execution_count": 74,
   "id": "d800f9f8",
   "metadata": {},
   "outputs": [],
   "source": [
    "D4_AGGRESSIVE_MOTORWAY_merged.drop(D4_AGGRESSIVE_MOTORWAY_merged[D4_AGGRESSIVE_MOTORWAY_merged['GPS'] == 0].index, inplace = True)"
   ]
  },
  {
   "cell_type": "code",
   "execution_count": 75,
   "id": "c6a42181",
   "metadata": {},
   "outputs": [
    {
     "data": {
      "text/plain": [
       "1.0    769\n",
       "0.0    165\n",
       "Name: Vehicle_Flag, dtype: int64"
      ]
     },
     "execution_count": 75,
     "metadata": {},
     "output_type": "execute_result"
    }
   ],
   "source": [
    "D4_AGGRESSIVE_MOTORWAY_merged.loc[D4_AGGRESSIVE_MOTORWAY_merged['Dist_Veh']!=999,'Vehicle_Flag']=1\n",
    "D4_AGGRESSIVE_MOTORWAY_merged['Vehicle_Flag']=D4_AGGRESSIVE_MOTORWAY_merged['Vehicle_Flag'].fillna(0)\n",
    "D4_AGGRESSIVE_MOTORWAY_merged['Vehicle_Flag'].value_counts()"
   ]
  },
  {
   "cell_type": "code",
   "execution_count": 76,
   "id": "8e2beb81",
   "metadata": {},
   "outputs": [],
   "source": [
    "V_acc_42= (D4_AGGRESSIVE_MOTORWAY_merged['Dist_Veh']/(D4_AGGRESSIVE_MOTORWAY_merged['GPS']*0.28)) * D4_AGGRESSIVE_MOTORWAY_merged['Vehicle_Flag']*dop['Val'][8] +  D4_AGGRESSIVE_MOTORWAY_merged['Vehicle_Flag']*D4_AGGRESSIVE_MOTORWAY_merged['Dist_Veh']*dop['Val'][6] \\\n",
    "+ np.log(D4_AGGRESSIVE_MOTORWAY_merged['GPS'])*dop['Val'][2] + D4_AGGRESSIVE_MOTORWAY_merged['No_Of_Veh']*dop['Val'][4] + D4_AGGRESSIVE_MOTORWAY_merged['X_pos']*dop['Val'][20] + dop['Val'][0]"
   ]
  },
  {
   "cell_type": "code",
   "execution_count": null,
   "id": "d86bfb4f",
   "metadata": {},
   "outputs": [],
   "source": []
  },
  {
   "cell_type": "code",
   "execution_count": 59,
   "id": "b2bfa1e7",
   "metadata": {
    "scrolled": true
   },
   "outputs": [
    {
     "data": {
      "text/plain": [
       "12     -0.663997\n",
       "13     -0.696381\n",
       "14     -0.821379\n",
       "15     -0.853300\n",
       "16     -0.799372\n",
       "          ...   \n",
       "1021   -0.506548\n",
       "1022   -0.456888\n",
       "1023   -0.429392\n",
       "1024   -0.435567\n",
       "1025   -0.451481\n",
       "Length: 12005, dtype: float64"
      ]
     },
     "execution_count": 59,
     "metadata": {},
     "output_type": "execute_result"
    }
   ],
   "source": [
    "V_acc\n"
   ]
  },
  {
   "cell_type": "code",
   "execution_count": 84,
   "id": "393ff84d",
   "metadata": {},
   "outputs": [
    {
     "data": {
      "image/png": "[encoded data removed]",
      "text/plain": [
       "<Figure size 1080x360 with 1 Axes>"
      ]
     },
     "metadata": {
      "needs_background": "light"
     },
     "output_type": "display_data"
    }
   ],
   "source": [
    "plt.figure(figsize=(15,5)) \n",
    "plt.scatter(D1_NORMAL_MOTORWAY_merged['GPS'],V_acc_11)\n",
    "plt.scatter(D4_AGGRESSIVE_MOTORWAY_merged['GPS'],V_acc_42)\n",
    "\n",
    "plt.xlabel(\"GPS Speed\")\n",
    "plt.ylabel(\"Utility of Acceleration\")\n",
    "plt.title(\"Utility for Choice of Acceleration\")\n",
    "\n",
    "plt.legend([\"Driver-1 Normal\", \"Driver-4 Aggressive\"])\n",
    "\n",
    "plt.show()"
   ]
  },
  {
   "cell_type": "code",
   "execution_count": null,
   "id": "252d2020",
   "metadata": {},
   "outputs": [],
   "source": []
  }
 ],
 "metadata": {
  "kernelspec": {
   "display_name": "Python 3 (ipykernel)",
   "language": "python",
   "name": "python3"
  },
  "language_info": {
   "codemirror_mode": {
    "name": "ipython",
    "version": 3
   },
   "file_extension": ".py",
   "mimetype": "text/x-python",
   "name": "python",
   "nbconvert_exporter": "python",
   "pygments_lexer": "ipython3",
   "version": "3.10.0"
  }
 },
 "nbformat": 4,
 "nbformat_minor": 5
}
